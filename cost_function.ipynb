{
 "cells": [
  {
   "cell_type": "code",
   "execution_count": 5,
   "metadata": {},
   "outputs": [],
   "source": [
    "import numpy as np"
   ]
  },
  {
   "cell_type": "code",
   "execution_count": 8,
   "metadata": {},
   "outputs": [
    {
     "data": {
      "text/plain": [
       "array([2, 3, 1, 0, 0, 4])"
      ]
     },
     "execution_count": 8,
     "metadata": {},
     "output_type": "execute_result"
    }
   ],
   "source": [
    "x = np.array([2, 3, 1, -2, -1, 4])\n",
    "x.clip(min = 0)"
   ]
  },
  {
   "cell_type": "code",
   "execution_count": 3,
   "metadata": {},
   "outputs": [],
   "source": [
    "def cost_function(X, y, model, risk_reward_ratio = 2, leverage = 2, transaction_cost=0.01):\n",
    "    \n",
    "    y_pred = model.predict(X)\n",
    "    \n",
    "    num_trades = len(y_pred)\n",
    "    \n",
    "    total_cost = 0\n",
    "    total_profit = 0\n",
    "    num_winning_trades = 0\n",
    "    \n",
    "    for i in range(num_trades):\n",
    "        \n",
    "        if y_pred[i] == 1:\n",
    "            position_size = leverage / model.predict_proba(X)[i][1]\n",
    "        else:\n",
    "            position_size = leverage / model.predict_proba(X)[i][0]\n",
    "        \n",
    "        # Montant de la perte potentielle pour ce trade\n",
    "        potential_loss = position_size * X[i]['Price'] * (1 - y[i]) * risk_reward_ratio\n",
    "        \n",
    "        # Montant de la recompense potentielle pour ce trade\n",
    "        potential_reward = position_size * X[i]['Price'] * y[i] * risk_reward_ratio\n",
    "        \n",
    "        # Cout de la transaction\n",
    "        trade_cost = position_size * X[i]['Price'] * transaction_cost\n",
    "        \n",
    "        # Verifier si le trade est gagnant ou perdant\n",
    "        if y_pred[i] == y[i]:\n",
    "            total_profit += potential_reward\n",
    "            num_winning_trades += 1\n",
    "        else:\n",
    "            total_profit -= potential_loss\n",
    "        \n",
    "        total_cost += trade_cost\n",
    "    \n",
    "    total_profit -= total_cost"
   ]
  },
  {
   "attachments": {},
   "cell_type": "markdown",
   "metadata": {},
   "source": [
    "Pour que la fonction de coût puisse être optimisée avec GridSearchCV, il faut la définir sous la forme d'une fonction qui prend comme arguments les hyperparamètres à optimiser et les données d'entraînement. Voici un exemple de code qui illustre cela :"
   ]
  },
  {
   "cell_type": "code",
   "execution_count": 2,
   "metadata": {},
   "outputs": [],
   "source": [
    "from sklearn.model_selection import cross_val_score\n",
    "from sklearn.metrics import make_scorer\n",
    "\n",
    "def custom_loss(y_true, y_pred, risk_reward_ratio, leverage):\n",
    "    \n",
    "    diff = y_pred - y_true\n",
    "    \n",
    "    # Perte potentielle en cas de stop loss\n",
    "    potential_loss = diff.clip(max = 0)\n",
    "    \n",
    "    # Gain potentiel en cas de take profit\n",
    "    potential_gain = diff.clip(min = 0) * risk_reward_ratio\n",
    "    \n",
    "    # Gain potentiel en utilisant l'effet de levier si la probabilite de gagner est elevee\n",
    "    proba_win = (y_pred > y_true).mean()\n",
    "    if proba_win > 0.5:\n",
    "        potential_gain *= leverage\n",
    "    \n",
    "    # Gain final\n",
    "    gain = potential_gain.sum() + potential_loss.sum()\n",
    "    \n",
    "    return gain\n",
    "\n",
    "\n",
    "scorer = make_scorer(custom_loss, greater_is_better=True,\n",
    "                     risk_reward_ratio=2, leverage = 1)\n",
    "\n",
    "def optimize_cost_function(X_train, y_train, risk_reward_ratio, leverage):\n",
    "    \n",
    "    model = RandomForestClassifier()\n",
    "    model.fit(X_train, y_train)\n",
    "    \n",
    "    # Score de la fonction de cout a l'aide de la validation croise\n",
    "    scores = cross_val_score(model, X_train, y_train,\n",
    "                             cv = 6, scoring = scorer)\n",
    "    \n",
    "    return scores.mean()"
   ]
  },
  {
   "cell_type": "code",
   "execution_count": 4,
   "metadata": {},
   "outputs": [],
   "source": [
    "from sklearn.model_selection import GridSearchCV\n",
    "\n",
    "param_grid = {\n",
    "    'risk_reward_ratio' : [1, 2, 3],\n",
    "    'leverage' : [1, 3, 5, 10]\n",
    "}"
   ]
  },
  {
   "cell_type": "code",
   "execution_count": null,
   "metadata": {},
   "outputs": [],
   "source": [
    "estimator = GridSearchCV(\n",
    "    model, param_grid = param_grid,\n",
    "    scoring = make_scorer(custom_loss, greater_is_better=True),\n",
    "    cv = 5,\n",
    "    n_jobs = -1\n",
    ")\n",
    "\n",
    "estimator.fit(X_train, y_train)\n",
    "\n",
    "# Affichage des meilleurs hyperparamètres et du meilleur score\n",
    "print(\"Meilleurs hyperparamètres : \", estimator.best_params_)\n",
    "print(\"Meilleur score : \", estimator.best_score_)"
   ]
  },
  {
   "attachments": {},
   "cell_type": "markdown",
   "metadata": {},
   "source": [
    "## Avec le critere de Kelly"
   ]
  },
  {
   "cell_type": "code",
   "execution_count": null,
   "metadata": {},
   "outputs": [],
   "source": [
    "import numpy as np\n",
    "\n",
    "def kelly_position_size(prob_win, prob_loss, reward_to_risk_ratio, capital):\n",
    "    \"\"\"\n",
    "    Fonction qui calcule la taille de position optimale en utilisant le modèle de Kelly.\n",
    "    \n",
    "    Parameters:\n",
    "    prob_win (float): Probabilité de gagner.\n",
    "    prob_loss (float): Probabilité de perdre.\n",
    "    reward_to_risk_ratio (float): Ratio de récompense sur risque.\n",
    "    capital (float): Capital disponible.\n",
    "    \n",
    "    Returns:\n",
    "    float: La taille de position optimale en pourcentage du capital disponible.\n",
    "    \"\"\"\n",
    "    b = reward_to_risk_ratio\n",
    "    p = prob_win\n",
    "    q = prob_loss\n",
    "    \n",
    "    Kelly_fraction = ((p * b) - q) / b\n",
    "    position_size = kelly_fraction * capital\n",
    "    \n",
    "    return position_size\n",
    "\n",
    "def compute_cost(predictions, actual, prob_win, reward_to_risk_ratio, capital):\n",
    "    diff = actual * predictions\n",
    "    potential_gain = diff.clip(min = 0) * reward_to_risk_ratio\n",
    "    potential_loss = diff.clip(max = 0)\n",
    "    \n",
    "    total_gain = np.sum(potential_gain)\n",
    "    total_loss = np.sum(potential_loss)\n",
    "    net_gain = total_gain + total_loss\n",
    "    \n",
    "    position_size = kelly_position_size(prob_win, 1 - prob_win, reward_to_risk_ratio, capital)\n",
    "    cost = net_gain / (position_size * capital)\n",
    "    \n",
    "    return cost\n",
    "    "
   ]
  },
  {
   "cell_type": "code",
   "execution_count": null,
   "metadata": {},
   "outputs": [],
   "source": [
    "from sklearn.model_selection import GridSearchCV\n",
    "\n",
    "def cost_function_wrapper(params):\n",
    "    prob_win, reward_to_risk_ratio, capital = params\n",
    "    return compute_cost(predictions, actual, prob_win, reward_to_risk_rat)\n",
    "\n",
    "# Définir les paramètres à optimiser\n",
    "param_grid = {\n",
    "    'prob_win': [0.5, 0.6, 0.7, 0.8, 0.9],\n",
    "    'reward_to_risk_ratio': [1, 2, 3, 4, 5],\n",
    "    'capital': [1000, 5000, 10000, 50000]\n",
    "}\n",
    "\n",
    "# Créer l'objet GridSearchCV\n",
    "grid_search = GridSearchCV(estimator=None, param_grid=param_grid, scoring=cost_function_wrapper)\n",
    "\n",
    "# Lancer la recherche en grille\n",
    "grid_search.fit(X_train, y_train)\n",
    "\n",
    "# Afficher les meilleurs paramètres trouvés\n",
    "print(grid_search.best_params_)"
   ]
  },
  {
   "attachments": {},
   "cell_type": "markdown",
   "metadata": {},
   "source": [
    "## Critere de kelly avec levier"
   ]
  },
  {
   "cell_type": "code",
   "execution_count": null,
   "metadata": {},
   "outputs": [],
   "source": [
    "def kelly_criterion_leverage(proba_win, risk_reward_ratio, leverage):\n",
    "    \n",
    "    kelly_fraction = (proba_win * (risk_reward_ratio + 1) - 1) / risk_reward_ratio\n",
    "    position_size = kelly_fraction * leverage"
   ]
  },
  {
   "attachments": {},
   "cell_type": "markdown",
   "metadata": {},
   "source": [
    "# Esperance de gain"
   ]
  },
  {
   "cell_type": "code",
   "execution_count": null,
   "metadata": {},
   "outputs": [],
   "source": [
    "def pps_cout(y_true, y_pred, equity, kelly_factor, prev_gain, prev_losses):\n",
    "    \n",
    "    proba_win = (y_pred > y_true).mean()\n",
    "    proba_loss = 1 - proba_win\n",
    "    risk_reward_ratio = abs(np.nanpercentile(y_true, 5)) / abs(np.nanpercentile(y_true, 95))\n",
    "    \n",
    "    if equity == 0:\n",
    "        position_size = 0\n",
    "    else:\n",
    "        if prev_gains + prev_losses > 0:\n",
    "            win_ratio = prev_gains / (prev_gains + prev_losses)\n",
    "            position_size = kelly_factor * (2 * win_ratio * proba_win - proba_loss) / risk_reward_ratio\n",
    "        else:\n",
    "            position_size = kelly_factor * (2 * proba_win - proba_loss) / risk_reward_ratio\n",
    "    \n",
    "    potential_gain = (y_pred - y_true) * position_size\n",
    "    potential_loss = (y_pred - y_true) * position_size\n",
    "    \n",
    "    return -potential_gain.mean() + 0.5 np.square(np.nan_to_num(potential_loss)).mean()"
   ]
  },
  {
   "cell_type": "code",
   "execution_count": null,
   "metadata": {},
   "outputs": [],
   "source": [
    "kelly_factor_values = [0.1, 0.2, 0.3, 0.4, 0.5]\n",
    "\n",
    "prev_gains_values = [0, 10, 20, 30, 40]\n",
    "prev_losses_values = [0, 10, 20, 30, 40]\n",
    "\n",
    "param_grid = {'kelly_factor' : kelly_factor_values,\n",
    "              'prev_gains' : prev_gains_values,\n",
    "              'prev_losses' : prev_losses_values}\n",
    "\n",
    "grid_search = GridSearchCV(estimator=None, param_grid=param_grid, cv=5, scoring=pps_cout)\n",
    "\n",
    "grid_search.fit(X_train, y_train, equity=100)\n",
    "\n",
    "# Afficher les meilleurs hyperparamètres et leur score\n",
    "print(\"Meilleurs hyperparamètres : \", grid_search.best_params_)\n",
    "print(\"Score : \", -grid_search.best_score_)"
   ]
  }
 ],
 "metadata": {
  "kernelspec": {
   "display_name": "Python 3",
   "language": "python",
   "name": "python3"
  },
  "language_info": {
   "codemirror_mode": {
    "name": "ipython",
    "version": 3
   },
   "file_extension": ".py",
   "mimetype": "text/x-python",
   "name": "python",
   "nbconvert_exporter": "python",
   "pygments_lexer": "ipython3",
   "version": "3.9.6"
  },
  "orig_nbformat": 4
 },
 "nbformat": 4,
 "nbformat_minor": 2
}
