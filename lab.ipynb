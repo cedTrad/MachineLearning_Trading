{
 "cells": [
  {
   "cell_type": "code",
   "execution_count": 1,
   "metadata": {},
   "outputs": [],
   "source": [
    "from sklearn.preprocessing import FunctionTransformer\n",
    "from sklearn.pipeline import make_union, make_pipeline, Pipeline\n",
    "from sklearn.model_selection import ParameterGrid\n",
    "\n",
    "from sklearn.impute import MissingIndicator, KNNImputer, SimpleImputer\n",
    "from sklearn.preprocessing import StandardScaler\n",
    "\n",
    "from fenginering.function import *\n",
    "from fenginering.indicator import *\n",
    "from fenginering.transformer import *\n",
    "from fenginering.preprocessing import Crossover\n",
    "from fenginering.preprocessing import Scale\n",
    "from data.get_data import *\n",
    "\n",
    "%load_ext autoreload\n",
    "%autoreload 2"
   ]
  },
  {
   "cell_type": "code",
   "execution_count": 2,
   "metadata": {},
   "outputs": [],
   "source": [
    "from sklearn.pipeline import FeatureUnion"
   ]
  },
  {
   "cell_type": "code",
   "execution_count": 3,
   "metadata": {},
   "outputs": [
    {
     "data": {
      "text/plain": [
       "(11282, 5)"
      ]
     },
     "execution_count": 3,
     "metadata": {},
     "output_type": "execute_result"
    }
   ],
   "source": [
    "start = \"2022\"\n",
    "end = \"2023\"\n",
    "data = get_data('BTC', '1h').loc[start : end]\n",
    "data.drop(columns = ['symbol'], inplace = True)\n",
    "data.columns = data.columns.astype(str)\n",
    "data.shape"
   ]
  },
  {
   "cell_type": "code",
   "execution_count": 4,
   "metadata": {},
   "outputs": [],
   "source": [
    "data['target'] = get_classification_target(data)\n",
    "data = data.iloc[:-1]"
   ]
  },
  {
   "cell_type": "code",
   "execution_count": 5,
   "metadata": {},
   "outputs": [],
   "source": [
    "lag_ret_list = [0, 1, 3, 5, 9, 15, 30]\n",
    "ema_list = [3, 9, 15]\n",
    "rsi_list = [10, 14, 20]\n",
    "\n",
    "atr_list = [10, 20, 25, 30, 48, 72]\n",
    "\n",
    "macd_dict = {\n",
    "    'slow' : [10, 14],\n",
    "    'fast' : [3, 5],\n",
    "    'signal' : [2, 3]\n",
    "}\n",
    "\n",
    "sar_dict = {\n",
    "    'step' : [0.2],\n",
    "    'max_step' : [0.2]\n",
    "}\n",
    "\n",
    "stochastic_oscillator_dict = {\n",
    "    'k_period' : [10, 15, 20],\n",
    "    'd_period' : [3, 5]\n",
    "}\n",
    "\n",
    "Indicators = MakeIndicator(data)\n",
    "\n",
    "Indicators.set_stransformer(lag_returns, lag_ret_list)\n",
    "Indicators.set_stransformer(rsi, rsi_list)\n",
    "Indicators.set_mtransformer(stochastic_oscillator, stochastic_oscillator_dict)\n",
    "Indicators.set_stransformer(atr, atr_list)\n",
    "\n",
    "data = Indicators.get_data()\n",
    "n_drop = Indicators.na_count\n",
    "        \n",
    "norm_scale = Scale(data)\n",
    "data = norm_scale.transform()"
   ]
  },
  {
   "cell_type": "code",
   "execution_count": 6,
   "metadata": {},
   "outputs": [],
   "source": [
    "from sklearn.ensemble import RandomForestClassifier, RandomForestRegressor"
   ]
  },
  {
   "cell_type": "code",
   "execution_count": 7,
   "metadata": {},
   "outputs": [
    {
     "data": {
      "text/plain": [
       "<AxesSubplot: >"
      ]
     },
     "execution_count": 7,
     "metadata": {},
     "output_type": "execute_result"
    },
    {
     "data": {
      "image/png": "[encoded data removed]",
      "text/plain": [
       "<Figure size 432x288 with 1 Axes>"
      ]
     },
     "metadata": {
      "needs_background": "light"
     },
     "output_type": "display_data"
    }
   ],
   "source": [
    "N = data.shape[0]\n",
    "n = int(0.7*N)\n",
    "train = data[:n]\n",
    "test = data[n:]\n",
    "\n",
    "features, target = train.drop(columns = ['target']), train['target']\n",
    "features_test, target_test = test.drop(columns = ['target']), test['target']\n",
    "\n",
    "\n",
    "target.value_counts().plot(kind = 'barh', color = 'red')"
   ]
  },
  {
   "cell_type": "code",
   "execution_count": 8,
   "metadata": {},
   "outputs": [],
   "source": [
    "from sklearn.model_selection import TimeSeriesSplit\n",
    "\n",
    "exp_cv = TimeSeriesSplit(n_splits = 10)"
   ]
  },
  {
   "cell_type": "code",
   "execution_count": null,
   "metadata": {},
   "outputs": [],
   "source": [
    "model = RandomForestClassifier()\n",
    "model.fit(features, target)"
   ]
  },
  {
   "cell_type": "code",
   "execution_count": null,
   "metadata": {},
   "outputs": [],
   "source": [
    "from xgboost import XGBClassifier\n",
    "\n",
    "model_xgb = XGBClassifier()\n",
    "model_xgb.fit(features, target)"
   ]
  },
  {
   "cell_type": "code",
   "execution_count": 9,
   "metadata": {},
   "outputs": [
    {
     "name": "stderr",
     "output_type": "stream",
     "text": [
      "c:\\Users\\cc\\AppData\\Local\\Programs\\Python\\Python39\\lib\\site-packages\\sklearn\\linear_model\\_logistic.py:458: ConvergenceWarning: lbfgs failed to converge (status=1):\n",
      "STOP: TOTAL NO. of ITERATIONS REACHED LIMIT.\n",
      "\n",
      "Increase the number of iterations (max_iter) or scale the data as shown in:\n",
      "    https://scikit-learn.org/stable/modules/preprocessing.html\n",
      "Please also refer to the documentation for alternative solver options:\n",
      "    https://scikit-learn.org/stable/modules/linear_model.html#logistic-regression\n",
      "  n_iter_i = _check_optimize_result(\n"
     ]
    },
    {
     "data": {
      "text/html": [
       "<style>#sk-container-id-1 {color: black;background-color: white;}#sk-container-id-1 pre{padding: 0;}#sk-container-id-1 div.sk-toggleable {background-color: white;}#sk-container-id-1 label.sk-toggleable__label {cursor: pointer;display: block;width: 100%;margin-bottom: 0;padding: 0.3em;box-sizing: border-box;text-align: center;}#sk-container-id-1 label.sk-toggleable__label-arrow:before {content: \"▸\";float: left;margin-right: 0.25em;color: #696969;}#sk-container-id-1 label.sk-toggleable__label-arrow:hover:before {color: black;}#sk-container-id-1 div.sk-estimator:hover label.sk-toggleable__label-arrow:before {color: black;}#sk-container-id-1 div.sk-toggleable__content {max-height: 0;max-width: 0;overflow: hidden;text-align: left;background-color: #f0f8ff;}#sk-container-id-1 div.sk-toggleable__content pre {margin: 0.2em;color: black;border-radius: 0.25em;background-color: #f0f8ff;}#sk-container-id-1 input.sk-toggleable__control:checked~div.sk-toggleable__content {max-height: 200px;max-width: 100%;overflow: auto;}#sk-container-id-1 input.sk-toggleable__control:checked~label.sk-toggleable__label-arrow:before {content: \"▾\";}#sk-container-id-1 div.sk-estimator input.sk-toggleable__control:checked~label.sk-toggleable__label {background-color: #d4ebff;}#sk-container-id-1 div.sk-label input.sk-toggleable__control:checked~label.sk-toggleable__label {background-color: #d4ebff;}#sk-container-id-1 input.sk-hidden--visually {border: 0;clip: rect(1px 1px 1px 1px);clip: rect(1px, 1px, 1px, 1px);height: 1px;margin: -1px;overflow: hidden;padding: 0;position: absolute;width: 1px;}#sk-container-id-1 div.sk-estimator {font-family: monospace;background-color: #f0f8ff;border: 1px dotted black;border-radius: 0.25em;box-sizing: border-box;margin-bottom: 0.5em;}#sk-container-id-1 div.sk-estimator:hover {background-color: #d4ebff;}#sk-container-id-1 div.sk-parallel-item::after {content: \"\";width: 100%;border-bottom: 1px solid gray;flex-grow: 1;}#sk-container-id-1 div.sk-label:hover label.sk-toggleable__label {background-color: #d4ebff;}#sk-container-id-1 div.sk-serial::before {content: \"\";position: absolute;border-left: 1px solid gray;box-sizing: border-box;top: 0;bottom: 0;left: 50%;z-index: 0;}#sk-container-id-1 div.sk-serial {display: flex;flex-direction: column;align-items: center;background-color: white;padding-right: 0.2em;padding-left: 0.2em;position: relative;}#sk-container-id-1 div.sk-item {position: relative;z-index: 1;}#sk-container-id-1 div.sk-parallel {display: flex;align-items: stretch;justify-content: center;background-color: white;position: relative;}#sk-container-id-1 div.sk-item::before, #sk-container-id-1 div.sk-parallel-item::before {content: \"\";position: absolute;border-left: 1px solid gray;box-sizing: border-box;top: 0;bottom: 0;left: 50%;z-index: -1;}#sk-container-id-1 div.sk-parallel-item {display: flex;flex-direction: column;z-index: 1;position: relative;background-color: white;}#sk-container-id-1 div.sk-parallel-item:first-child::after {align-self: flex-end;width: 50%;}#sk-container-id-1 div.sk-parallel-item:last-child::after {align-self: flex-start;width: 50%;}#sk-container-id-1 div.sk-parallel-item:only-child::after {width: 0;}#sk-container-id-1 div.sk-dashed-wrapped {border: 1px dashed gray;margin: 0 0.4em 0.5em 0.4em;box-sizing: border-box;padding-bottom: 0.4em;background-color: white;}#sk-container-id-1 div.sk-label label {font-family: monospace;font-weight: bold;display: inline-block;line-height: 1.2em;}#sk-container-id-1 div.sk-label-container {text-align: center;}#sk-container-id-1 div.sk-container {/* jupyter's `normalize.less` sets `[hidden] { display: none; }` but bootstrap.min.css set `[hidden] { display: none !important; }` so we also need the `!important` here to be able to override the default hidden behavior on the sphinx rendered scikit-learn.org. See: https://github.com/scikit-learn/scikit-learn/issues/21755 */display: inline-block !important;position: relative;}#sk-container-id-1 div.sk-text-repr-fallback {display: none;}</style><div id=\"sk-container-id-1\" class=\"sk-top-container\"><div class=\"sk-text-repr-fallback\"><pre>LogisticRegression()</pre><b>In a Jupyter environment, please rerun this cell to show the HTML representation or trust the notebook. <br />On GitHub, the HTML representation is unable to render, please try loading this page with nbviewer.org.</b></div><div class=\"sk-container\" hidden><div class=\"sk-item\"><div class=\"sk-estimator sk-toggleable\"><input class=\"sk-toggleable__control sk-hidden--visually\" id=\"sk-estimator-id-1\" type=\"checkbox\" checked><label for=\"sk-estimator-id-1\" class=\"sk-toggleable__label sk-toggleable__label-arrow\">LogisticRegression</label><div class=\"sk-toggleable__content\"><pre>LogisticRegression()</pre></div></div></div></div></div>"
      ],
      "text/plain": [
       "LogisticRegression()"
      ]
     },
     "execution_count": 9,
     "metadata": {},
     "output_type": "execute_result"
    }
   ],
   "source": [
    "from sklearn.linear_model import LogisticRegression\n",
    "\n",
    "model_lr = LogisticRegression()\n",
    "model_lr.fit(features, target)"
   ]
  },
  {
   "cell_type": "code",
   "execution_count": null,
   "metadata": {},
   "outputs": [],
   "source": [
    "from evaluation.curve import learningCurve\n",
    "from sklearn.model_selection import TimeSeriesSplit\n",
    "\n",
    "exp_cv = TimeSeriesSplit(n_splits = 10)\n",
    "#learningCurve(model, features, target, exp_cv)"
   ]
  },
  {
   "cell_type": "code",
   "execution_count": null,
   "metadata": {},
   "outputs": [],
   "source": [
    "y_pred = model.predict(features_test)\n",
    "y_pred_proba = model.predict_proba(features_test)\n",
    "\n",
    "from evaluation.classification import *\n",
    "\n",
    "evaluation = Evaluation(y_true = target_test, y_pred = y_pred, proba_pred = y_pred_proba[:,1])\n",
    "evaluation.metrics()\n",
    "evaluation.show()"
   ]
  },
  {
   "cell_type": "code",
   "execution_count": 10,
   "metadata": {},
   "outputs": [
    {
     "name": "stdout",
     "output_type": "stream",
     "text": [
      " Accuracy : 0.55 \n",
      " f1 : 0.53 \n",
      " precision : 0.57 \n",
      " recall : 0.50 \n",
      " AUC : 0.57 \n",
      "              precision    recall  f1-score   support\n",
      "\n",
      "        -1.0       0.53      0.60      0.56      1627\n",
      "         1.0       0.57      0.50      0.53      1749\n",
      "\n",
      "    accuracy                           0.55      3376\n",
      "   macro avg       0.55      0.55      0.55      3376\n",
      "weighted avg       0.55      0.55      0.55      3376\n",
      "\n"
     ]
    },
    {
     "data": {
      "image/png": "[encoded data removed]",
      "text/plain": [
       "<Figure size 864x576 with 4 Axes>"
      ]
     },
     "metadata": {
      "needs_background": "light"
     },
     "output_type": "display_data"
    },
    {
     "data": {
      "image/png": "[encoded data removed]",
      "text/plain": [
       "<Figure size 864x576 with 2 Axes>"
      ]
     },
     "metadata": {
      "needs_background": "light"
     },
     "output_type": "display_data"
    }
   ],
   "source": [
    "y_pred = model_lr.predict(features_test)\n",
    "y_pred_proba = model_lr.predict_proba(features_test)\n",
    "\n",
    "from evaluation.classification import *\n",
    "\n",
    "evaluation = Evaluation(y_true = target_test, y_pred = y_pred, proba_pred = y_pred_proba[:,1])\n",
    "evaluation.metrics()\n",
    "evaluation.show()"
   ]
  },
  {
   "cell_type": "code",
   "execution_count": null,
   "metadata": {},
   "outputs": [],
   "source": [
    "import plotly.express as px\n",
    "px.box(y_pred_proba)"
   ]
  },
  {
   "cell_type": "code",
   "execution_count": null,
   "metadata": {},
   "outputs": [],
   "source": [
    "Importance = pd.DataFrame({'Importance' : model.feature_importances_*100},\n",
    "                          index = model.feature_names_in_)\n",
    "Importance.sort_values('Importance', axis = 0, ascending = True).plot(kind = 'barh', color = 'r')"
   ]
  },
  {
   "cell_type": "code",
   "execution_count": null,
   "metadata": {},
   "outputs": [],
   "source": [
    "\n",
    "up = 0.68\n",
    "down = 0.36\n",
    "\n",
    "y_pred = model_xgb.predict(features_test)\n",
    "y_pred_proba = model_xgb.predict_proba(features_test)\n",
    "\n",
    "from evaluation.classification import *\n",
    "\n",
    "evaluation = Evaluation(y_true = target_test, y_pred = y_pred, proba_pred = y_pred_proba[:,1])\n",
    "evaluation.metrics()\n",
    "evaluation.show()\n"
   ]
  },
  {
   "cell_type": "code",
   "execution_count": null,
   "metadata": {},
   "outputs": [],
   "source": [
    "import plotly.express as px\n",
    "px.box(y_pred_proba)"
   ]
  },
  {
   "cell_type": "code",
   "execution_count": null,
   "metadata": {},
   "outputs": [],
   "source": [
    "import joblib\n",
    "#joblib.dump(model, 'model_file/model.joblib')\n",
    "#joblib.dump(model_xgb, 'model_file/model_xgb.joblib')"
   ]
  },
  {
   "attachments": {},
   "cell_type": "markdown",
   "metadata": {},
   "source": [
    "# backtest"
   ]
  },
  {
   "cell_type": "code",
   "execution_count": null,
   "metadata": {},
   "outputs": [],
   "source": [
    "def backtest(features_test, target_test):\n",
    "    backtest = pd.DataFrame()\n",
    "    #backtest['close'] = features_test.close\n",
    "    #backtest['returns'] = features_test.close.pct_change()\n",
    "    backtest['returns'] = features_test.ret_1_0\n",
    "    backtest['target'] = target_test\n",
    "    backtest['pred'] = y_pred\n",
    "    backtest['pred_proba'] = y_pred_proba[:,0]\n",
    "\n",
    "    backtest['pred2'] = np.where(backtest['pred_proba'] > 0.7, 1,\n",
    "            np.where(backtest['pred_proba'] < 0.3, -1, 0)\n",
    "            )\n",
    "\n",
    "    backtest['cum_ret'] = (1 + backtest['returns']).cumprod()\n",
    "\n",
    "    backtest['strategy'] = backtest['returns']*backtest['pred']\n",
    "    backtest['strategy2'] = backtest['returns']*backtest['pred2']\n",
    "    \n",
    "    backtest['strategy_cum_ret'] = (1 + backtest['strategy']).cumprod()\n",
    "    backtest['strategy_cum_ret2'] = (1 + backtest['strategy2']).cumprod()\n",
    "    \n",
    "    backtest[['cum_ret', 'strategy_cum_ret', 'strategy_cum_ret2']].plot(figsize = (15, 10))\n",
    "    "
   ]
  },
  {
   "cell_type": "code",
   "execution_count": null,
   "metadata": {},
   "outputs": [],
   "source": [
    "backtest(features_test, target_test)"
   ]
  },
  {
   "cell_type": "code",
   "execution_count": null,
   "metadata": {},
   "outputs": [],
   "source": [
    "lev = 10\n",
    "\n",
    "up = 0.55\n",
    "down = 0.45\n",
    "\n",
    "backtest = pd.DataFrame()\n",
    "\n",
    "#backtest['close'] = features_test.close\n",
    "#backtest['returns'] = features_test.close.pct_change()\n",
    "backtest['returns'] = features_test.ret_1_0\n",
    "backtest['target'] = target_test\n",
    "backtest['pred'] = y_pred\n",
    "backtest['pred_proba'] = y_pred_proba[:,0]\n",
    "\n",
    "backtest['pred2'] = np.where(backtest['pred_proba'] > 0.7, 1,\n",
    "         np.where(backtest['pred_proba'] < 0.3, -1, 0)\n",
    "         )\n",
    "\n",
    "backtest['cum_ret'] = (1 + backtest['returns']).cumprod()\n",
    "\n",
    "backtest['strategy'] = backtest['returns']*backtest['pred']\n",
    "backtest['strategy_cum_ret'] = (1 + backtest['strategy']).cumprod()\n",
    "\n",
    "backtest['leverage'] = np.where(backtest['pred_proba'] > 0.8, lev,\n",
    "                                np.where(backtest['pred_proba'] < 0.2, lev, 1)\n",
    "                                )\n",
    "backtest['strategy2'] = backtest['returns'] * backtest['pred2'] * backtest['leverage']\n",
    "\n",
    "\n",
    "backtest['strategy_cum_ret2'] = (1 + backtest['strategy2']).cumprod()\n",
    "\n",
    "#backtest\n",
    "\n",
    "#backtest[['cum_ret', 'strategy_cum_ret', 'strategy_cum_ret2']].plot(figsize = (15, 10))\n",
    "px.line(backtest[['cum_ret', 'strategy_cum_ret', 'strategy_cum_ret2']])"
   ]
  },
  {
   "cell_type": "code",
   "execution_count": null,
   "metadata": {},
   "outputs": [],
   "source": [
    "px.box(backtest[['strategy', 'strategy2']])"
   ]
  },
  {
   "cell_type": "code",
   "execution_count": null,
   "metadata": {},
   "outputs": [],
   "source": [
    "backtest['pred2'] = np.where(backtest['pred_proba'] > 0.7, 1,\n",
    "         np.where(backtest['pred_proba'] < 0.3, -1, 0)\n",
    "         )\n",
    "\n",
    "backtest['pred2'].iloc[:100].value_counts()"
   ]
  },
  {
   "cell_type": "code",
   "execution_count": null,
   "metadata": {},
   "outputs": [],
   "source": [
    "px.line(backtest['pred2'].iloc[:100])"
   ]
  }
 ],
 "metadata": {
  "kernelspec": {
   "display_name": "Python 3",
   "language": "python",
   "name": "python3"
  },
  "language_info": {
   "codemirror_mode": {
    "name": "ipython",
    "version": 3
   },
   "file_extension": ".py",
   "mimetype": "text/x-python",
   "name": "python",
   "nbconvert_exporter": "python",
   "pygments_lexer": "ipython3",
   "version": "3.9.6"
  },
  "orig_nbformat": 4,
  "vscode": {
   "interpreter": {
    "hash": "dacff523af297f253b96c08a95a52f4913b3d66f2abacce976f8fdea6b18462e"
   }
  }
 },
 "nbformat": 4,
 "nbformat_minor": 2
}
