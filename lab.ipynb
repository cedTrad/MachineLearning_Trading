{
 "cells": [
  {
   "cell_type": "code",
   "execution_count": null,
   "metadata": {},
   "outputs": [],
   "source": [
    "from sklearn.preprocessing import FunctionTransformer\n",
    "from sklearn.pipeline import make_union, make_pipeline, Pipeline\n",
    "from sklearn.model_selection import ParameterGrid\n",
    "\n",
    "from sklearn.impute import MissingIndicator, KNNImputer, SimpleImputer\n",
    "from sklearn.preprocessing import StandardScaler\n",
    "\n",
    "from fenginering.indicator import *\n",
    "from fenginering.transformer import *\n",
    "from data.get_data import *\n",
    "\n",
    "%load_ext autoreload\n",
    "%autoreload 2"
   ]
  },
  {
   "cell_type": "code",
   "execution_count": null,
   "metadata": {},
   "outputs": [],
   "source": [
    "sma_list = [3, 9, 12]\n",
    "ema_list = [3, 9, 15]\n",
    "rsi_list = [10, 14, 20]\n",
    "atr_list = [3, 6, 9]\n",
    "adx_list = [3, 6, 9]\n",
    "\n",
    "n_day_up_list = [10, 15, 20]\n",
    "aroon_list = [5, 10, 15]"
   ]
  },
  {
   "cell_type": "code",
   "execution_count": null,
   "metadata": {},
   "outputs": [],
   "source": [
    "stochastic_oscillator_dict = {\n",
    "    'k_period' : [10, 15, 20],\n",
    "    'd_period' : [3, 5]\n",
    "}\n",
    "bande_bollingers_dict = {\n",
    "    'window' : [10, 15, 20],\n",
    "    'wind_dev' : [3, 5]\n",
    "}\n",
    "macd_dict = {\n",
    "    'slow' : [10, 14, 20],\n",
    "    'fast' : [3, 5, 8],\n",
    "    'signal' : [3, 4]\n",
    "}\n",
    "\n",
    "stochastic_oscillator_grid = param_grid(stochastic_oscillator_dict)\n",
    "bande_bollingers_grid = param_grid(bande_bollingers_dict)\n",
    "macd_grid = param_grid(macd_dict)"
   ]
  },
  {
   "cell_type": "code",
   "execution_count": null,
   "metadata": {},
   "outputs": [],
   "source": [
    "SMA_transformer = one_params_transformer(sma_list, sma)\n",
    "EMA_transformer = one_params_transformer(ema_list, ema)\n",
    "RSI_transformer = one_params_transformer(rsi_list, rsi)\n",
    "N_day_up_transformer = one_params_transformer(n_day_up_list, n_day_up)\n",
    "ATR_transformer = one_params_transformer(atr_list, atr)\n",
    "ADX_transformer = one_params_transformer(adx_list, adx)\n",
    "SAR_transformer = zero_params_transformer(sar)\n",
    "\n",
    "AROON_transformer = one_params_transformer(aroon_list, aroon)\n",
    "\n",
    "\n",
    "STOCHASTIQUE_OSCILLATOR_transformer = multi_params_transformer(stochastic_oscillator_grid, stochastic_oscillator)\n",
    "BANDE_BOLLINGERS_transformer = multi_params_transformer(bande_bollingers_grid, bande_bollingers)\n",
    "MACD_transformer = multi_params_transformer(macd_grid, macd)"
   ]
  },
  {
   "cell_type": "code",
   "execution_count": null,
   "metadata": {},
   "outputs": [],
   "source": [
    "SAR = make_pipeline(\n",
    "    SAR_transformer,\n",
    "    SimpleImputer(strategy = 'constant',\n",
    "                  fill_value = 0)\n",
    ")\n",
    "SAR\n",
    "#impute_sar.fit_transform(data)"
   ]
  },
  {
   "cell_type": "code",
   "execution_count": null,
   "metadata": {},
   "outputs": [],
   "source": [
    "SAR_transformer."
   ]
  },
  {
   "cell_type": "code",
   "execution_count": null,
   "metadata": {},
   "outputs": [],
   "source": [
    "SAR.feature_names_out\n",
    "#SAR_transformer.get_feature_names_out()"
   ]
  },
  {
   "cell_type": "code",
   "execution_count": null,
   "metadata": {},
   "outputs": [],
   "source": [
    "#SAR.fit_transform(data)"
   ]
  },
  {
   "cell_type": "code",
   "execution_count": null,
   "metadata": {},
   "outputs": [],
   "source": [
    "SAR_transformer.fit_transform(data)\n"
   ]
  },
  {
   "cell_type": "code",
   "execution_count": null,
   "metadata": {},
   "outputs": [],
   "source": [
    "SAR_transformer.feature_names_out = ['a', 'b', 'c']"
   ]
  },
  {
   "cell_type": "code",
   "execution_count": null,
   "metadata": {},
   "outputs": [],
   "source": [
    "SAR_transformer.get_feature_names_out()"
   ]
  },
  {
   "cell_type": "code",
   "execution_count": null,
   "metadata": {},
   "outputs": [],
   "source": [
    "SAR.fit_transform(data)"
   ]
  },
  {
   "cell_type": "code",
   "execution_count": null,
   "metadata": {},
   "outputs": [],
   "source": [
    "pipeline_indicator = make_union(\n",
    "    #SMA_transformer,\n",
    "    EMA_transformer,\n",
    "    RSI_transformer,\n",
    "    N_day_up_transformer,\n",
    "    ATR_transformer,\n",
    "    ADX_transformer,\n",
    "    #SAR,\n",
    "    AROON_transformer,\n",
    "    STOCHASTIQUE_OSCILLATOR_transformer,\n",
    "    BANDE_BOLLINGERS_transformer,\n",
    "    MACD_transformer\n",
    ")\n",
    "\n",
    "\n",
    "pipeline_indicator\n"
   ]
  },
  {
   "cell_type": "code",
   "execution_count": null,
   "metadata": {},
   "outputs": [],
   "source": [
    "DROP_NA_transformer = dropna_transformer()\n",
    "\n",
    "data_pipeline = make_pipeline(\n",
    "    pipeline_indicator,\n",
    "    DROP_NA_transformer\n",
    ")\n",
    "data_pipeline"
   ]
  },
  {
   "cell_type": "code",
   "execution_count": null,
   "metadata": {},
   "outputs": [],
   "source": [
    "start = \"2022\"\n",
    "end = \"2023\"\n",
    "data = get_data('BTC', '1d').loc[start : end]\n",
    "data.drop(columns = ['symbol'], inplace = True)\n",
    "data.columns = data.columns.astype(str)\n",
    "data.shape"
   ]
  },
  {
   "cell_type": "code",
   "execution_count": null,
   "metadata": {},
   "outputs": [],
   "source": [
    "#data_pipeline.fit_transform(data)"
   ]
  },
  {
   "attachments": {},
   "cell_type": "markdown",
   "metadata": {},
   "source": [
    "# Model"
   ]
  },
  {
   "cell_type": "code",
   "execution_count": null,
   "metadata": {},
   "outputs": [],
   "source": [
    "from preprocessing.function import *\n",
    "from sklearn.ensemble import RandomForestClassifier, RandomForestRegressor\n",
    "\n",
    "N = data.shape[0]\n",
    "n = int(0.7*N)\n",
    "train = data[:n]\n",
    "test = data[n:]\n",
    "\n",
    "\n",
    "target = get_classification_target(train)\n",
    "features = train\n",
    "\n",
    "target_test = get_classification_target(test)\n",
    "features_test = test\n",
    "\n",
    "target.value_counts().plot(kind = 'barh', color = 'red')"
   ]
  },
  {
   "cell_type": "code",
   "execution_count": null,
   "metadata": {},
   "outputs": [],
   "source": [
    "from sklearn.model_selection import TimeSeriesSplit"
   ]
  },
  {
   "cell_type": "code",
   "execution_count": null,
   "metadata": {},
   "outputs": [],
   "source": [
    "model = RandomForestClassifier()\n",
    "model.fit(features, target)"
   ]
  },
  {
   "cell_type": "code",
   "execution_count": null,
   "metadata": {},
   "outputs": [],
   "source": [
    "y_pred = model.predict(test)\n",
    "y_pred_proba = model.predict_proba(test)\n",
    "\n",
    "from evaluation.classification import *\n",
    "\n",
    "evaluation = Evaluation(y_true = target_test, y_pred = y_pred, proba_pred = y_pred_proba[:,1])\n",
    "evaluation.metrics()\n",
    "evaluation.show()"
   ]
  },
  {
   "cell_type": "code",
   "execution_count": null,
   "metadata": {},
   "outputs": [],
   "source": [
    "Importance = pd.DataFrame({'Importance' : model.feature_importances_*100},\n",
    "                          index = model.feature_names_in_)\n",
    "Importance.sort_values('Importance', axis = 0, ascending = True).plot(kind = 'barh', color = 'r')"
   ]
  },
  {
   "cell_type": "code",
   "execution_count": null,
   "metadata": {},
   "outputs": [],
   "source": []
  }
 ],
 "metadata": {
  "kernelspec": {
   "display_name": "Python 3",
   "language": "python",
   "name": "python3"
  },
  "language_info": {
   "codemirror_mode": {
    "name": "ipython",
    "version": 3
   },
   "file_extension": ".py",
   "mimetype": "text/x-python",
   "name": "python",
   "nbconvert_exporter": "python",
   "pygments_lexer": "ipython3",
   "version": "3.9.6"
  },
  "orig_nbformat": 4,
  "vscode": {
   "interpreter": {
    "hash": "dacff523af297f253b96c08a95a52f4913b3d66f2abacce976f8fdea6b18462e"
   }
  }
 },
 "nbformat": 4,
 "nbformat_minor": 2
}
