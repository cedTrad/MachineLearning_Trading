{
 "cells": [
  {
   "cell_type": "code",
   "execution_count": 1,
   "metadata": {},
   "outputs": [],
   "source": [
    "from sklearn.preprocessing import FunctionTransformer\n",
    "from sklearn.pipeline import make_union, make_pipeline, Pipeline\n",
    "from sklearn.model_selection import ParameterGrid\n",
    "\n",
    "from sklearn.impute import MissingIndicator, KNNImputer, SimpleImputer\n",
    "from sklearn.preprocessing import StandardScaler\n",
    "\n",
    "from fenginering.function import *\n",
    "from fenginering.indicator import *\n",
    "from fenginering.transformer import *\n",
    "from data.get_data import *\n",
    "\n",
    "%load_ext autoreload\n",
    "%autoreload 2"
   ]
  },
  {
   "cell_type": "code",
   "execution_count": 2,
   "metadata": {},
   "outputs": [],
   "source": [
    "from sklearn.pipeline import FeatureUnion"
   ]
  },
  {
   "cell_type": "code",
   "execution_count": 3,
   "metadata": {},
   "outputs": [],
   "source": [
    "sma_list = [3, 9, 12]\n",
    "ema_list = [3, 9, 15]\n",
    "rsi_list = [10, 14, 20]\n",
    "atr_list = [3, 6, 9]\n",
    "adx_list = [3, 6, 9]\n",
    "sar = []\n",
    "n_day_up_list = [10, 15, 20]\n",
    "aroon_list = [5, 10, 15]\n",
    "\n",
    "\n",
    "stochastic_oscillator_dict = {\n",
    "    'k_period' : [10, 15, 20],\n",
    "    'd_period' : [3, 5]\n",
    "}\n",
    "\n",
    "bande_bollingers_dict = {\n",
    "    'window' : [10, 15, 20],\n",
    "    'wind_dev' : [3, 5]\n",
    "}\n",
    "\n",
    "macd_dict = {\n",
    "    'slow' : [10, 14],\n",
    "    'fast' : [3, 5],\n",
    "    'signal' : [2, 3]\n",
    "}\n"
   ]
  },
  {
   "cell_type": "code",
   "execution_count": 4,
   "metadata": {},
   "outputs": [
    {
     "data": {
      "text/plain": [
       "(10757, 5)"
      ]
     },
     "execution_count": 4,
     "metadata": {},
     "output_type": "execute_result"
    }
   ],
   "source": [
    "start = \"2022\"\n",
    "end = \"2023\"\n",
    "data = get_data('BTC', '1h').loc[start : end]\n",
    "data.drop(columns = ['symbol'], inplace = True)\n",
    "data.columns = data.columns.astype(str)\n",
    "data.shape"
   ]
  },
  {
   "cell_type": "code",
   "execution_count": 5,
   "metadata": {},
   "outputs": [],
   "source": [
    "start = \"2022\"\n",
    "end = \"2023\"\n",
    "data = get_data('BTC', '1h').loc[start : end]\n",
    "data.drop(columns = ['symbol'], inplace = True)\n",
    "data.columns = data.columns.astype(str)\n",
    "data.shape\n",
    "\n",
    "Indicators = MakeIndicator(data)\n",
    "Indicators.set_stransformer(sma, sma_list)\n",
    "Indicators.set_stransformer(ema, ema_list)\n",
    "Indicators.set_stransformer(rsi, rsi_list)\n",
    "Indicators.set_stransformer(atr, atr_list)\n",
    "Indicators.set_stransformer(n_day_up, n_day_up_list)\n",
    "\n",
    "\n",
    "#Indicators.set_mtransformer(adx, adx_list)\n",
    "#Indicators.set_stransformer(aroon, aroon_list)\n",
    "\n",
    "Indicators.set_mtransformer(macd, macd_dict)\n",
    "Indicators.set_mtransformer(stochastic_oscillator, stochastic_oscillator_dict)\n",
    "Indicators.set_mtransformer(bande_bollingers, bande_bollingers_dict)\n",
    "\n",
    "data = Indicators.df()"
   ]
  },
  {
   "attachments": {},
   "cell_type": "markdown",
   "metadata": {},
   "source": [
    "# Model"
   ]
  },
  {
   "cell_type": "code",
   "execution_count": 6,
   "metadata": {},
   "outputs": [
    {
     "data": {
      "text/plain": [
       "<Axes: >"
      ]
     },
     "execution_count": 6,
     "metadata": {},
     "output_type": "execute_result"
    },
    {
     "data": {
      "image/png": "[encoded data removed]",
      "text/plain": [
       "<Figure size 432x288 with 1 Axes>"
      ]
     },
     "metadata": {
      "needs_background": "light"
     },
     "output_type": "display_data"
    }
   ],
   "source": [
    "from sklearn.ensemble import RandomForestClassifier, RandomForestRegressor\n",
    "\n",
    "N = data.shape[0]\n",
    "n = int(0.7*N)\n",
    "train = data[:n]\n",
    "test = data[n:]\n",
    "\n",
    "\n",
    "target = get_classification_target(train)\n",
    "features = train\n",
    "\n",
    "target_test = get_classification_target(test)\n",
    "features_test = test\n",
    "\n",
    "target.value_counts().plot(kind = 'barh', color = 'red')"
   ]
  },
  {
   "cell_type": "code",
   "execution_count": 7,
   "metadata": {},
   "outputs": [],
   "source": [
    "from fenginering.selection import *\n",
    "\n"
   ]
  },
  {
   "cell_type": "code",
   "execution_count": 8,
   "metadata": {},
   "outputs": [],
   "source": [
    "from sklearn.model_selection import TimeSeriesSplit\n",
    "\n",
    "exp_cv = TimeSeriesSplit(n_splits = 10)"
   ]
  },
  {
   "cell_type": "code",
   "execution_count": 9,
   "metadata": {},
   "outputs": [
    {
     "data": {
      "text/html": [
       "<style>#sk-container-id-1 {color: black;background-color: white;}#sk-container-id-1 pre{padding: 0;}#sk-container-id-1 div.sk-toggleable {background-color: white;}#sk-container-id-1 label.sk-toggleable__label {cursor: pointer;display: block;width: 100%;margin-bottom: 0;padding: 0.3em;box-sizing: border-box;text-align: center;}#sk-container-id-1 label.sk-toggleable__label-arrow:before {content: \"▸\";float: left;margin-right: 0.25em;color: #696969;}#sk-container-id-1 label.sk-toggleable__label-arrow:hover:before {color: black;}#sk-container-id-1 div.sk-estimator:hover label.sk-toggleable__label-arrow:before {color: black;}#sk-container-id-1 div.sk-toggleable__content {max-height: 0;max-width: 0;overflow: hidden;text-align: left;background-color: #f0f8ff;}#sk-container-id-1 div.sk-toggleable__content pre {margin: 0.2em;color: black;border-radius: 0.25em;background-color: #f0f8ff;}#sk-container-id-1 input.sk-toggleable__control:checked~div.sk-toggleable__content {max-height: 200px;max-width: 100%;overflow: auto;}#sk-container-id-1 input.sk-toggleable__control:checked~label.sk-toggleable__label-arrow:before {content: \"▾\";}#sk-container-id-1 div.sk-estimator input.sk-toggleable__control:checked~label.sk-toggleable__label {background-color: #d4ebff;}#sk-container-id-1 div.sk-label input.sk-toggleable__control:checked~label.sk-toggleable__label {background-color: #d4ebff;}#sk-container-id-1 input.sk-hidden--visually {border: 0;clip: rect(1px 1px 1px 1px);clip: rect(1px, 1px, 1px, 1px);height: 1px;margin: -1px;overflow: hidden;padding: 0;position: absolute;width: 1px;}#sk-container-id-1 div.sk-estimator {font-family: monospace;background-color: #f0f8ff;border: 1px dotted black;border-radius: 0.25em;box-sizing: border-box;margin-bottom: 0.5em;}#sk-container-id-1 div.sk-estimator:hover {background-color: #d4ebff;}#sk-container-id-1 div.sk-parallel-item::after {content: \"\";width: 100%;border-bottom: 1px solid gray;flex-grow: 1;}#sk-container-id-1 div.sk-label:hover label.sk-toggleable__label {background-color: #d4ebff;}#sk-container-id-1 div.sk-serial::before {content: \"\";position: absolute;border-left: 1px solid gray;box-sizing: border-box;top: 0;bottom: 0;left: 50%;z-index: 0;}#sk-container-id-1 div.sk-serial {display: flex;flex-direction: column;align-items: center;background-color: white;padding-right: 0.2em;padding-left: 0.2em;position: relative;}#sk-container-id-1 div.sk-item {position: relative;z-index: 1;}#sk-container-id-1 div.sk-parallel {display: flex;align-items: stretch;justify-content: center;background-color: white;position: relative;}#sk-container-id-1 div.sk-item::before, #sk-container-id-1 div.sk-parallel-item::before {content: \"\";position: absolute;border-left: 1px solid gray;box-sizing: border-box;top: 0;bottom: 0;left: 50%;z-index: -1;}#sk-container-id-1 div.sk-parallel-item {display: flex;flex-direction: column;z-index: 1;position: relative;background-color: white;}#sk-container-id-1 div.sk-parallel-item:first-child::after {align-self: flex-end;width: 50%;}#sk-container-id-1 div.sk-parallel-item:last-child::after {align-self: flex-start;width: 50%;}#sk-container-id-1 div.sk-parallel-item:only-child::after {width: 0;}#sk-container-id-1 div.sk-dashed-wrapped {border: 1px dashed gray;margin: 0 0.4em 0.5em 0.4em;box-sizing: border-box;padding-bottom: 0.4em;background-color: white;}#sk-container-id-1 div.sk-label label {font-family: monospace;font-weight: bold;display: inline-block;line-height: 1.2em;}#sk-container-id-1 div.sk-label-container {text-align: center;}#sk-container-id-1 div.sk-container {/* jupyter's `normalize.less` sets `[hidden] { display: none; }` but bootstrap.min.css set `[hidden] { display: none !important; }` so we also need the `!important` here to be able to override the default hidden behavior on the sphinx rendered scikit-learn.org. See: https://github.com/scikit-learn/scikit-learn/issues/21755 */display: inline-block !important;position: relative;}#sk-container-id-1 div.sk-text-repr-fallback {display: none;}</style><div id=\"sk-container-id-1\" class=\"sk-top-container\"><div class=\"sk-text-repr-fallback\"><pre>RandomForestClassifier()</pre><b>In a Jupyter environment, please rerun this cell to show the HTML representation or trust the notebook. <br />On GitHub, the HTML representation is unable to render, please try loading this page with nbviewer.org.</b></div><div class=\"sk-container\" hidden><div class=\"sk-item\"><div class=\"sk-estimator sk-toggleable\"><input class=\"sk-toggleable__control sk-hidden--visually\" id=\"sk-estimator-id-1\" type=\"checkbox\" checked><label for=\"sk-estimator-id-1\" class=\"sk-toggleable__label sk-toggleable__label-arrow\">RandomForestClassifier</label><div class=\"sk-toggleable__content\"><pre>RandomForestClassifier()</pre></div></div></div></div></div>"
      ],
      "text/plain": [
       "RandomForestClassifier()"
      ]
     },
     "execution_count": 9,
     "metadata": {},
     "output_type": "execute_result"
    }
   ],
   "source": [
    "model = RandomForestClassifier()\n",
    "model.fit(features, target)"
   ]
  },
  {
   "cell_type": "code",
   "execution_count": 13,
   "metadata": {},
   "outputs": [
    {
     "data": {
      "image/png": "[encoded data removed]",
      "text/plain": [
       "<Figure size 1296x720 with 1 Axes>"
      ]
     },
     "metadata": {
      "needs_background": "light"
     },
     "output_type": "display_data"
    },
    {
     "data": {
      "text/plain": [
       "(array([ 68, 136, 204, 273, 341, 409, 478, 546, 614, 683]),\n",
       " array([[1., 1., 1., 1., 1., 1., 1., 1., 1., 1.],\n",
       "        [1., 1., 1., 1., 1., 1., 1., 1., 1., 1.],\n",
       "        [1., 1., 1., 1., 1., 1., 1., 1., 1., 1.],\n",
       "        [1., 1., 1., 1., 1., 1., 1., 1., 1., 1.],\n",
       "        [1., 1., 1., 1., 1., 1., 1., 1., 1., 1.],\n",
       "        [1., 1., 1., 1., 1., 1., 1., 1., 1., 1.],\n",
       "        [1., 1., 1., 1., 1., 1., 1., 1., 1., 1.],\n",
       "        [1., 1., 1., 1., 1., 1., 1., 1., 1., 1.],\n",
       "        [1., 1., 1., 1., 1., 1., 1., 1., 1., 1.],\n",
       "        [1., 1., 1., 1., 1., 1., 1., 1., 1., 1.]]),\n",
       " array([[0.50658858, 0.49048316, 0.51830161, 0.48023426, 0.4875549 ,\n",
       "         0.50073206, 0.50951684, 0.49926794, 0.49780381, 0.49194729],\n",
       "        [0.51537335, 0.49487555, 0.53879941, 0.50951684, 0.49487555,\n",
       "         0.49780381, 0.48462665, 0.48169839, 0.50512445, 0.50073206],\n",
       "        [0.51537335, 0.51976574, 0.522694  , 0.48316252, 0.49341142,\n",
       "         0.48169839, 0.50366032, 0.49780381, 0.49780381, 0.49341142],\n",
       "        [0.53879941, 0.52415813, 0.53733529, 0.48023426, 0.477306  ,\n",
       "         0.49780381, 0.51390922, 0.51098097, 0.50658858, 0.49926794],\n",
       "        [0.52415813, 0.51830161, 0.55636896, 0.49048316, 0.47584187,\n",
       "         0.50073206, 0.51683748, 0.522694  , 0.50366032, 0.49341142],\n",
       "        [0.52855051, 0.53733529, 0.53001464, 0.477306  , 0.4875549 ,\n",
       "         0.48901903, 0.5124451 , 0.50073206, 0.50366032, 0.49048316],\n",
       "        [0.53733529, 0.50951684, 0.51098097, 0.522694  , 0.49633968,\n",
       "         0.51390922, 0.49048316, 0.50951684, 0.47437775, 0.522694  ],\n",
       "        [0.51390922, 0.522694  , 0.5329429 , 0.51537335, 0.47584187,\n",
       "         0.49780381, 0.51976574, 0.49780381, 0.49487555, 0.49341142],\n",
       "        [0.53733529, 0.53733529, 0.53733529, 0.48462665, 0.48609078,\n",
       "         0.49926794, 0.51390922, 0.49341142, 0.49926794, 0.49633968],\n",
       "        [0.53147877, 0.53147877, 0.522694  , 0.48609078, 0.4875549 ,\n",
       "         0.4875549 , 0.52122987, 0.50219619, 0.49926794, 0.48901903]]))"
      ]
     },
     "execution_count": 13,
     "metadata": {},
     "output_type": "execute_result"
    }
   ],
   "source": [
    "from evaluation.curve import learningCurve\n",
    "from sklearn.model_selection import TimeSeriesSplit\n",
    "\n",
    "exp_cv = TimeSeriesSplit(n_splits = 10)\n",
    "learningCurve(model, features, target, exp_cv)"
   ]
  },
  {
   "cell_type": "code",
   "execution_count": 14,
   "metadata": {},
   "outputs": [
    {
     "name": "stdout",
     "output_type": "stream",
     "text": [
      " Accuracy : 0.50 \n",
      " f1 : 0.52 \n",
      " precision : 0.51 \n",
      " recall : 0.53 \n",
      " AUC : 0.50 \n",
      "              precision    recall  f1-score   support\n",
      "\n",
      "           0       0.49      0.47      0.48      1570\n",
      "           1       0.51      0.53      0.52      1651\n",
      "\n",
      "    accuracy                           0.50      3221\n",
      "   macro avg       0.50      0.50      0.50      3221\n",
      "weighted avg       0.50      0.50      0.50      3221\n",
      "\n"
     ]
    },
    {
     "data": {
      "image/png": "[encoded data removed]",
      "text/plain": [
       "<Figure size 864x576 with 4 Axes>"
      ]
     },
     "metadata": {
      "needs_background": "light"
     },
     "output_type": "display_data"
    },
    {
     "data": {
      "image/png": "[encoded data removed]",
      "text/plain": [
       "<Figure size 864x576 with 2 Axes>"
      ]
     },
     "metadata": {
      "needs_background": "light"
     },
     "output_type": "display_data"
    }
   ],
   "source": [
    "y_pred = model.predict(features_test)\n",
    "y_pred_proba = model.predict_proba(features_test)\n",
    "\n",
    "from evaluation.classification import *\n",
    "\n",
    "evaluation = Evaluation(y_true = target_test, y_pred = y_pred, proba_pred = y_pred_proba[:,1])\n",
    "evaluation.metrics()\n",
    "evaluation.show()"
   ]
  },
  {
   "cell_type": "code",
   "execution_count": null,
   "metadata": {},
   "outputs": [],
   "source": [
    "Importance = pd.DataFrame({'Importance' : model.feature_importances_*100},\n",
    "                          index = model.feature_names_in_)\n",
    "Importance.sort_values('Importance', axis = 0, ascending = True).plot(kind = 'barh', color = 'r')"
   ]
  },
  {
   "cell_type": "code",
   "execution_count": null,
   "metadata": {},
   "outputs": [],
   "source": [
    "import joblib\n",
    "#joblib.dump(model, 'model/model.joblib')"
   ]
  },
  {
   "cell_type": "code",
   "execution_count": null,
   "metadata": {},
   "outputs": [],
   "source": [
    "import plotly.express as px\n",
    "px.box(y_pred_proba)"
   ]
  },
  {
   "attachments": {},
   "cell_type": "markdown",
   "metadata": {},
   "source": [
    "# backtest"
   ]
  },
  {
   "cell_type": "code",
   "execution_count": null,
   "metadata": {},
   "outputs": [],
   "source": [
    "def backtest(features_test, target_test):\n",
    "    backtest = pd.DataFrame()\n",
    "    backtest['close'] = features_test.close\n",
    "    backtest['returns'] = features_test.close.pct_change()\n",
    "    backtest['target'] = target_test\n",
    "    backtest['pred'] = y_pred\n",
    "\n",
    "    backtest['cum_ret'] = (1 + backtest['returns']).cumprod()\n",
    "\n",
    "    backtest['strategy'] = backtest['returns']*backtest['pred']\n",
    "    backtest['strategy_cum_ret'] = (1 + backtest['strategy']).cumprod()\n",
    "    \n",
    "    backtest[['cum_ret', 'strategy_cum_ret']].plot(figsize = (15, 10))\n",
    "    "
   ]
  },
  {
   "cell_type": "code",
   "execution_count": null,
   "metadata": {},
   "outputs": [],
   "source": [
    "backtest(features_test, target_test)"
   ]
  },
  {
   "cell_type": "code",
   "execution_count": null,
   "metadata": {},
   "outputs": [],
   "source": [
    "y_pred_proba[:,1]"
   ]
  },
  {
   "cell_type": "code",
   "execution_count": null,
   "metadata": {},
   "outputs": [],
   "source": [
    "lev = 100\n",
    "\n",
    "up = 0.7\n",
    "down = 0.3\n",
    "\n",
    "backtest = pd.DataFrame()\n",
    "\n",
    "backtest['close'] = features_test.close\n",
    "backtest['returns'] = features_test.close.pct_change()\n",
    "backtest['target'] = target_test\n",
    "backtest['pred'] = y_pred\n",
    "backtest['pred_proba'] = y_pred_proba[:,0]\n",
    "\n",
    "backtest['pred2'] = np.where(backtest['pred_proba'] > 0.7, 1,\n",
    "         np.where(backtest['pred_proba'] < 0.3, -1, 0)\n",
    "         )\n",
    "\n",
    "backtest['cum_ret'] = (1 + backtest['returns']).cumprod()\n",
    "\n",
    "backtest['strategy'] = backtest['returns']*backtest['pred']\n",
    "backtest['strategy_cum_ret'] = (1 + backtest['strategy']).cumprod()\n",
    "\n",
    "backtest['leverage'] = np.where(backtest['pred_proba'] > 0.8, lev,\n",
    "                                np.where(backtest['pred_proba'] < 0.2, lev, 1)\n",
    "                                )\n",
    "backtest['strategy2'] = backtest['returns'] * backtest['pred2'] * backtest['leverage']\n",
    "\n",
    "\n",
    "backtest['strategy_cum_ret2'] = (1 + backtest['strategy2']).cumprod()\n",
    "\n",
    "#backtest\n",
    "\n",
    "#backtest[['cum_ret', 'strategy_cum_ret', 'strategy_cum_ret2']].plot(figsize = (15, 10))\n",
    "px.line(backtest[['cum_ret', 'strategy_cum_ret', 'strategy_cum_ret2']])"
   ]
  },
  {
   "cell_type": "code",
   "execution_count": null,
   "metadata": {},
   "outputs": [],
   "source": []
  },
  {
   "attachments": {},
   "cell_type": "markdown",
   "metadata": {},
   "source": [
    "# CrossOver"
   ]
  },
  {
   "cell_type": "code",
   "execution_count": null,
   "metadata": {},
   "outputs": [],
   "source": [
    "start = \"2022\"\n",
    "end = \"2023\"\n",
    "data = get_data('BTC', '1d').loc[start : end]\n",
    "data.drop(columns = ['symbol'], inplace = True)\n",
    "data.columns = data.columns.astype(str)\n",
    "data.shape"
   ]
  },
  {
   "cell_type": "code",
   "execution_count": null,
   "metadata": {},
   "outputs": [],
   "source": [
    "macd(data, 14, 7, 3)"
   ]
  },
  {
   "cell_type": "code",
   "execution_count": null,
   "metadata": {},
   "outputs": [],
   "source": [
    "(ema(data, 14) - ema(data, 7))"
   ]
  },
  {
   "cell_type": "code",
   "execution_count": null,
   "metadata": {},
   "outputs": [],
   "source": [
    "from fenginering.preprocessing import CrossOver\n",
    "\n",
    "cross = Crossover(data)\n",
    "cross.ma(sma, sma_list)\n"
   ]
  },
  {
   "cell_type": "code",
   "execution_count": null,
   "metadata": {},
   "outputs": [],
   "source": []
  }
 ],
 "metadata": {
  "kernelspec": {
   "display_name": "Python 3",
   "language": "python",
   "name": "python3"
  },
  "language_info": {
   "codemirror_mode": {
    "name": "ipython",
    "version": 3
   },
   "file_extension": ".py",
   "mimetype": "text/x-python",
   "name": "python",
   "nbconvert_exporter": "python",
   "pygments_lexer": "ipython3",
   "version": "3.9.6"
  },
  "orig_nbformat": 4,
  "vscode": {
   "interpreter": {
    "hash": "dacff523af297f253b96c08a95a52f4913b3d66f2abacce976f8fdea6b18462e"
   }
  }
 },
 "nbformat": 4,
 "nbformat_minor": 2
}
