{
 "cells": [
  {
   "cell_type": "code",
   "execution_count": 1,
   "metadata": {},
   "outputs": [],
   "source": [
    "from sklearn.preprocessing import FunctionTransformer\n",
    "from sklearn.pipeline import make_union, make_pipeline, Pipeline\n",
    "\n",
    "from sklearn.model_selection import ParameterGrid\n",
    "from sklearn.model_selection import TimeSeriesSplit\n",
    "\n",
    "from sklearn.impute import KNNImputer, SimpleImputer\n",
    "from sklearn.preprocessing import StandardScaler\n",
    "\n",
    "from sklearn.ensemble import RandomForestClassifier, RandomForestRegressor\n",
    "\n",
    "from fenginering.function import *\n",
    "from fenginering.indicator import *\n",
    "from fenginering.transformer import *\n",
    "from data.get_data import *\n",
    "\n",
    "%load_ext autoreload\n",
    "%autoreload 2"
   ]
  },
  {
   "cell_type": "code",
   "execution_count": 2,
   "metadata": {},
   "outputs": [
    {
     "data": {
      "text/plain": [
       "(449, 5)"
      ]
     },
     "execution_count": 2,
     "metadata": {},
     "output_type": "execute_result"
    }
   ],
   "source": [
    "start = \"2022\"\n",
    "end = \"2023\"\n",
    "data = get_data('BTC', '1d').loc[start : end]\n",
    "data.drop(columns = ['symbol'], inplace = True)\n",
    "data.columns = data.columns.astype(str)\n",
    "data.shape"
   ]
  },
  {
   "cell_type": "code",
   "execution_count": 3,
   "metadata": {},
   "outputs": [
    {
     "data": {
      "text/plain": [
       "<Axes: >"
      ]
     },
     "execution_count": 3,
     "metadata": {},
     "output_type": "execute_result"
    },
    {
     "data": {
      "image/png": "[encoded data removed]",
      "text/plain": [
       "<Figure size 432x288 with 1 Axes>"
      ]
     },
     "metadata": {
      "needs_background": "light"
     },
     "output_type": "display_data"
    }
   ],
   "source": [
    "\n",
    "N = data.shape[0]\n",
    "n = int(0.7*N)\n",
    "train = data[:n]\n",
    "test = data[n:]\n",
    "\n",
    "\n",
    "target = get_classification_target(train)\n",
    "features = train\n",
    "\n",
    "target_test = get_classification_target(test)\n",
    "features_test = test\n",
    "\n",
    "target.value_counts().plot(kind = 'barh', color = 'red')"
   ]
  },
  {
   "cell_type": "code",
   "execution_count": 4,
   "metadata": {},
   "outputs": [
    {
     "data": {
      "text/html": [
       "<style>#sk-container-id-1 {color: black;background-color: white;}#sk-container-id-1 pre{padding: 0;}#sk-container-id-1 div.sk-toggleable {background-color: white;}#sk-container-id-1 label.sk-toggleable__label {cursor: pointer;display: block;width: 100%;margin-bottom: 0;padding: 0.3em;box-sizing: border-box;text-align: center;}#sk-container-id-1 label.sk-toggleable__label-arrow:before {content: \"▸\";float: left;margin-right: 0.25em;color: #696969;}#sk-container-id-1 label.sk-toggleable__label-arrow:hover:before {color: black;}#sk-container-id-1 div.sk-estimator:hover label.sk-toggleable__label-arrow:before {color: black;}#sk-container-id-1 div.sk-toggleable__content {max-height: 0;max-width: 0;overflow: hidden;text-align: left;background-color: #f0f8ff;}#sk-container-id-1 div.sk-toggleable__content pre {margin: 0.2em;color: black;border-radius: 0.25em;background-color: #f0f8ff;}#sk-container-id-1 input.sk-toggleable__control:checked~div.sk-toggleable__content {max-height: 200px;max-width: 100%;overflow: auto;}#sk-container-id-1 input.sk-toggleable__control:checked~label.sk-toggleable__label-arrow:before {content: \"▾\";}#sk-container-id-1 div.sk-estimator input.sk-toggleable__control:checked~label.sk-toggleable__label {background-color: #d4ebff;}#sk-container-id-1 div.sk-label input.sk-toggleable__control:checked~label.sk-toggleable__label {background-color: #d4ebff;}#sk-container-id-1 input.sk-hidden--visually {border: 0;clip: rect(1px 1px 1px 1px);clip: rect(1px, 1px, 1px, 1px);height: 1px;margin: -1px;overflow: hidden;padding: 0;position: absolute;width: 1px;}#sk-container-id-1 div.sk-estimator {font-family: monospace;background-color: #f0f8ff;border: 1px dotted black;border-radius: 0.25em;box-sizing: border-box;margin-bottom: 0.5em;}#sk-container-id-1 div.sk-estimator:hover {background-color: #d4ebff;}#sk-container-id-1 div.sk-parallel-item::after {content: \"\";width: 100%;border-bottom: 1px solid gray;flex-grow: 1;}#sk-container-id-1 div.sk-label:hover label.sk-toggleable__label {background-color: #d4ebff;}#sk-container-id-1 div.sk-serial::before {content: \"\";position: absolute;border-left: 1px solid gray;box-sizing: border-box;top: 0;bottom: 0;left: 50%;z-index: 0;}#sk-container-id-1 div.sk-serial {display: flex;flex-direction: column;align-items: center;background-color: white;padding-right: 0.2em;padding-left: 0.2em;position: relative;}#sk-container-id-1 div.sk-item {position: relative;z-index: 1;}#sk-container-id-1 div.sk-parallel {display: flex;align-items: stretch;justify-content: center;background-color: white;position: relative;}#sk-container-id-1 div.sk-item::before, #sk-container-id-1 div.sk-parallel-item::before {content: \"\";position: absolute;border-left: 1px solid gray;box-sizing: border-box;top: 0;bottom: 0;left: 50%;z-index: -1;}#sk-container-id-1 div.sk-parallel-item {display: flex;flex-direction: column;z-index: 1;position: relative;background-color: white;}#sk-container-id-1 div.sk-parallel-item:first-child::after {align-self: flex-end;width: 50%;}#sk-container-id-1 div.sk-parallel-item:last-child::after {align-self: flex-start;width: 50%;}#sk-container-id-1 div.sk-parallel-item:only-child::after {width: 0;}#sk-container-id-1 div.sk-dashed-wrapped {border: 1px dashed gray;margin: 0 0.4em 0.5em 0.4em;box-sizing: border-box;padding-bottom: 0.4em;background-color: white;}#sk-container-id-1 div.sk-label label {font-family: monospace;font-weight: bold;display: inline-block;line-height: 1.2em;}#sk-container-id-1 div.sk-label-container {text-align: center;}#sk-container-id-1 div.sk-container {/* jupyter's `normalize.less` sets `[hidden] { display: none; }` but bootstrap.min.css set `[hidden] { display: none !important; }` so we also need the `!important` here to be able to override the default hidden behavior on the sphinx rendered scikit-learn.org. See: https://github.com/scikit-learn/scikit-learn/issues/21755 */display: inline-block !important;position: relative;}#sk-container-id-1 div.sk-text-repr-fallback {display: none;}</style><div id=\"sk-container-id-1\" class=\"sk-top-container\"><div class=\"sk-text-repr-fallback\"><pre>RandomForestClassifier()</pre><b>In a Jupyter environment, please rerun this cell to show the HTML representation or trust the notebook. <br />On GitHub, the HTML representation is unable to render, please try loading this page with nbviewer.org.</b></div><div class=\"sk-container\" hidden><div class=\"sk-item\"><div class=\"sk-estimator sk-toggleable\"><input class=\"sk-toggleable__control sk-hidden--visually\" id=\"sk-estimator-id-1\" type=\"checkbox\" checked><label for=\"sk-estimator-id-1\" class=\"sk-toggleable__label sk-toggleable__label-arrow\">RandomForestClassifier</label><div class=\"sk-toggleable__content\"><pre>RandomForestClassifier()</pre></div></div></div></div></div>"
      ],
      "text/plain": [
       "RandomForestClassifier()"
      ]
     },
     "execution_count": 4,
     "metadata": {},
     "output_type": "execute_result"
    }
   ],
   "source": [
    "model = RandomForestClassifier()\n",
    "model.fit(features, target)"
   ]
  },
  {
   "cell_type": "code",
   "execution_count": 5,
   "metadata": {},
   "outputs": [
    {
     "name": "stdout",
     "output_type": "stream",
     "text": [
      " Accuracy : 0.68 \n",
      " f1 : 0.63 \n",
      " precision : 0.72 \n",
      " recall : 0.55 \n",
      " AUC : 0.72 \n",
      "              precision    recall  f1-score   support\n",
      "\n",
      "           0       0.66      0.80      0.72        70\n",
      "           1       0.72      0.55      0.63        65\n",
      "\n",
      "    accuracy                           0.68       135\n",
      "   macro avg       0.69      0.68      0.67       135\n",
      "weighted avg       0.69      0.68      0.68       135\n",
      "\n"
     ]
    },
    {
     "data": {
      "image/png": "[encoded data removed]",
      "text/plain": [
       "<Figure size 864x576 with 4 Axes>"
      ]
     },
     "metadata": {
      "needs_background": "light"
     },
     "output_type": "display_data"
    },
    {
     "data": {
      "image/png": "[encoded data removed]",
      "text/plain": [
       "<Figure size 864x576 with 2 Axes>"
      ]
     },
     "metadata": {
      "needs_background": "light"
     },
     "output_type": "display_data"
    }
   ],
   "source": [
    "y_pred = model.predict(test)\n",
    "y_pred_proba = model.predict_proba(test)\n",
    "\n",
    "from evaluation.classification import *\n",
    "\n",
    "evaluation = Evaluation(y_true = target_test, y_pred = y_pred, proba_pred = y_pred_proba[:,1])\n",
    "evaluation.metrics()\n",
    "evaluation.show()"
   ]
  },
  {
   "cell_type": "code",
   "execution_count": 6,
   "metadata": {},
   "outputs": [
    {
     "data": {
      "text/plain": [
       "<Axes: >"
      ]
     },
     "execution_count": 6,
     "metadata": {},
     "output_type": "execute_result"
    },
    {
     "data": {
      "image/png": "[encoded data removed]",
      "text/plain": [
       "<Figure size 432x288 with 1 Axes>"
      ]
     },
     "metadata": {
      "needs_background": "light"
     },
     "output_type": "display_data"
    }
   ],
   "source": [
    "Importance = pd.DataFrame({'Importance' : model.feature_importances_*100},\n",
    "                          index = model.feature_names_in_)\n",
    "Importance.sort_values('Importance', axis = 0, ascending = True).plot(kind = 'barh', color = 'r')"
   ]
  },
  {
   "cell_type": "markdown",
   "metadata": {},
   "source": [
    "## Add EMA et RSI"
   ]
  },
  {
   "cell_type": "code",
   "execution_count": 7,
   "metadata": {},
   "outputs": [],
   "source": [
    "from sklearn.pipeline import FeatureUnion"
   ]
  },
  {
   "cell_type": "code",
   "execution_count": 8,
   "metadata": {},
   "outputs": [
    {
     "data": {
      "text/plain": [
       "(449, 5)"
      ]
     },
     "execution_count": 8,
     "metadata": {},
     "output_type": "execute_result"
    }
   ],
   "source": [
    "start = \"2022\"\n",
    "end = \"2023\"\n",
    "data = get_data('BTC', '1d').loc[start : end]\n",
    "data.drop(columns = ['symbol'], inplace = True)\n",
    "data.columns = data.columns.astype(str)\n",
    "data.shape"
   ]
  },
  {
   "cell_type": "code",
   "execution_count": 11,
   "metadata": {},
   "outputs": [
    {
     "data": {
      "text/html": [
       "<div>\n",
       "<style scoped>\n",
       "    .dataframe tbody tr th:only-of-type {\n",
       "        vertical-align: middle;\n",
       "    }\n",
       "\n",
       "    .dataframe tbody tr th {\n",
       "        vertical-align: top;\n",
       "    }\n",
       "\n",
       "    .dataframe thead th {\n",
       "        text-align: right;\n",
       "    }\n",
       "</style>\n",
       "<table border=\"1\" class=\"dataframe\">\n",
       "  <thead>\n",
       "    <tr style=\"text-align: right;\">\n",
       "      <th></th>\n",
       "      <th>ema_3_0</th>\n",
       "      <th>ema_9_1</th>\n",
       "      <th>ema_15_2</th>\n",
       "      <th>rsi_0</th>\n",
       "      <th>rsi_1</th>\n",
       "      <th>rsi_2</th>\n",
       "      <th>MACD_3_10_0</th>\n",
       "      <th>MACD_diff_3_10_0</th>\n",
       "      <th>MACD_sign_3_10_0</th>\n",
       "      <th>MACD_3_14_1</th>\n",
       "      <th>...</th>\n",
       "      <th>MACD_sign_5_10_4</th>\n",
       "      <th>MACD_5_14_5</th>\n",
       "      <th>MACD_diff_5_14_5</th>\n",
       "      <th>MACD_sign_5_14_5</th>\n",
       "      <th>MACD_5_10_6</th>\n",
       "      <th>MACD_diff_5_10_6</th>\n",
       "      <th>MACD_sign_5_10_6</th>\n",
       "      <th>MACD_5_14_7</th>\n",
       "      <th>MACD_diff_5_14_7</th>\n",
       "      <th>MACD_sign_5_14_7</th>\n",
       "    </tr>\n",
       "  </thead>\n",
       "  <tbody>\n",
       "    <tr>\n",
       "      <th>19</th>\n",
       "      <td>41377.339439</td>\n",
       "      <td>42216.374605</td>\n",
       "      <td>42836.967596</td>\n",
       "      <td>24.386534</td>\n",
       "      <td>24.809960</td>\n",
       "      <td>24.707944</td>\n",
       "      <td>-942.731929</td>\n",
       "      <td>-134.225787</td>\n",
       "      <td>-808.506142</td>\n",
       "      <td>-1357.287237</td>\n",
       "      <td>...</td>\n",
       "      <td>-497.740149</td>\n",
       "      <td>-980.174452</td>\n",
       "      <td>-84.741750</td>\n",
       "      <td>-895.432702</td>\n",
       "      <td>-565.619144</td>\n",
       "      <td>-107.796576</td>\n",
       "      <td>-457.822569</td>\n",
       "      <td>-980.174452</td>\n",
       "      <td>-133.326762</td>\n",
       "      <td>-846.847690</td>\n",
       "    </tr>\n",
       "    <tr>\n",
       "      <th>20</th>\n",
       "      <td>38911.324719</td>\n",
       "      <td>41062.161684</td>\n",
       "      <td>42038.010397</td>\n",
       "      <td>13.173430</td>\n",
       "      <td>14.927279</td>\n",
       "      <td>16.039644</td>\n",
       "      <td>-2340.608218</td>\n",
       "      <td>-510.700692</td>\n",
       "      <td>-1829.907526</td>\n",
       "      <td>-2984.726400</td>\n",
       "      <td>...</td>\n",
       "      <td>-1010.709908</td>\n",
       "      <td>-1911.312970</td>\n",
       "      <td>-338.626756</td>\n",
       "      <td>-1572.686214</td>\n",
       "      <td>-1267.194788</td>\n",
       "      <td>-404.686110</td>\n",
       "      <td>-862.508679</td>\n",
       "      <td>-1911.312970</td>\n",
       "      <td>-532.232640</td>\n",
       "      <td>-1379.080330</td>\n",
       "    </tr>\n",
       "    <tr>\n",
       "      <th>21</th>\n",
       "      <td>36991.372360</td>\n",
       "      <td>39864.013348</td>\n",
       "      <td>41167.186597</td>\n",
       "      <td>11.300698</td>\n",
       "      <td>13.103922</td>\n",
       "      <td>14.323831</td>\n",
       "      <td>-3136.830953</td>\n",
       "      <td>-435.641142</td>\n",
       "      <td>-2701.189811</td>\n",
       "      <td>-3994.727943</td>\n",
       "      <td>...</td>\n",
       "      <td>-1524.395223</td>\n",
       "      <td>-2639.134870</td>\n",
       "      <td>-355.482885</td>\n",
       "      <td>-2283.651985</td>\n",
       "      <td>-1781.237880</td>\n",
       "      <td>-459.364601</td>\n",
       "      <td>-1321.873279</td>\n",
       "      <td>-2639.134870</td>\n",
       "      <td>-630.027270</td>\n",
       "      <td>-2009.107600</td>\n",
       "    </tr>\n",
       "    <tr>\n",
       "      <th>22</th>\n",
       "      <td>36617.961180</td>\n",
       "      <td>39140.120678</td>\n",
       "      <td>40551.857022</td>\n",
       "      <td>21.842162</td>\n",
       "      <td>21.878759</td>\n",
       "      <td>21.838955</td>\n",
       "      <td>-2804.123349</td>\n",
       "      <td>-34.311179</td>\n",
       "      <td>-2769.812169</td>\n",
       "      <td>-3735.932416</td>\n",
       "      <td>...</td>\n",
       "      <td>-1692.081234</td>\n",
       "      <td>-2707.733308</td>\n",
       "      <td>-141.360441</td>\n",
       "      <td>-2566.372867</td>\n",
       "      <td>-1775.924240</td>\n",
       "      <td>-227.025480</td>\n",
       "      <td>-1548.898760</td>\n",
       "      <td>-2707.733308</td>\n",
       "      <td>-349.312854</td>\n",
       "      <td>-2358.420454</td>\n",
       "    </tr>\n",
       "    <tr>\n",
       "      <th>23</th>\n",
       "      <td>36639.155590</td>\n",
       "      <td>38644.166542</td>\n",
       "      <td>40065.418645</td>\n",
       "      <td>25.336653</td>\n",
       "      <td>24.778145</td>\n",
       "      <td>24.315785</td>\n",
       "      <td>-2280.795388</td>\n",
       "      <td>163.005594</td>\n",
       "      <td>-2443.800982</td>\n",
       "      <td>-3222.265527</td>\n",
       "      <td>...</td>\n",
       "      <td>-1632.289824</td>\n",
       "      <td>-2543.864258</td>\n",
       "      <td>7.502870</td>\n",
       "      <td>-2551.367127</td>\n",
       "      <td>-1602.394119</td>\n",
       "      <td>-26.747680</td>\n",
       "      <td>-1575.646439</td>\n",
       "      <td>-2543.864258</td>\n",
       "      <td>-92.721902</td>\n",
       "      <td>-2451.142356</td>\n",
       "    </tr>\n",
       "    <tr>\n",
       "      <th>...</th>\n",
       "      <td>...</td>\n",
       "      <td>...</td>\n",
       "      <td>...</td>\n",
       "      <td>...</td>\n",
       "      <td>...</td>\n",
       "      <td>...</td>\n",
       "      <td>...</td>\n",
       "      <td>...</td>\n",
       "      <td>...</td>\n",
       "      <td>...</td>\n",
       "      <td>...</td>\n",
       "      <td>...</td>\n",
       "      <td>...</td>\n",
       "      <td>...</td>\n",
       "      <td>...</td>\n",
       "      <td>...</td>\n",
       "      <td>...</td>\n",
       "      <td>...</td>\n",
       "      <td>...</td>\n",
       "      <td>...</td>\n",
       "      <td>...</td>\n",
       "    </tr>\n",
       "    <tr>\n",
       "      <th>444</th>\n",
       "      <td>27784.855237</td>\n",
       "      <td>26322.570826</td>\n",
       "      <td>25349.437731</td>\n",
       "      <td>71.876195</td>\n",
       "      <td>69.103865</td>\n",
       "      <td>66.651314</td>\n",
       "      <td>1666.595440</td>\n",
       "      <td>-54.784267</td>\n",
       "      <td>1721.379708</td>\n",
       "      <td>2310.252078</td>\n",
       "      <td>...</td>\n",
       "      <td>1198.909892</td>\n",
       "      <td>1830.662481</td>\n",
       "      <td>11.210811</td>\n",
       "      <td>1819.451670</td>\n",
       "      <td>1187.005843</td>\n",
       "      <td>3.419472</td>\n",
       "      <td>1183.586371</td>\n",
       "      <td>1830.662481</td>\n",
       "      <td>59.543765</td>\n",
       "      <td>1771.118715</td>\n",
       "    </tr>\n",
       "    <tr>\n",
       "      <th>445</th>\n",
       "      <td>27517.912618</td>\n",
       "      <td>26508.250660</td>\n",
       "      <td>25587.129265</td>\n",
       "      <td>64.268275</td>\n",
       "      <td>63.487918</td>\n",
       "      <td>62.463637</td>\n",
       "      <td>1193.705512</td>\n",
       "      <td>-175.891398</td>\n",
       "      <td>1369.596911</td>\n",
       "      <td>1806.460548</td>\n",
       "      <td>...</td>\n",
       "      <td>1041.609955</td>\n",
       "      <td>1575.715022</td>\n",
       "      <td>-81.245549</td>\n",
       "      <td>1656.960571</td>\n",
       "      <td>962.959987</td>\n",
       "      <td>-110.313192</td>\n",
       "      <td>1073.273179</td>\n",
       "      <td>1575.715022</td>\n",
       "      <td>-97.701847</td>\n",
       "      <td>1673.416869</td>\n",
       "    </tr>\n",
       "    <tr>\n",
       "      <th>446</th>\n",
       "      <td>27906.661309</td>\n",
       "      <td>26865.682528</td>\n",
       "      <td>25925.664357</td>\n",
       "      <td>68.759165</td>\n",
       "      <td>67.016304</td>\n",
       "      <td>65.271036</td>\n",
       "      <td>1224.053677</td>\n",
       "      <td>-48.514411</td>\n",
       "      <td>1272.568088</td>\n",
       "      <td>1850.681515</td>\n",
       "      <td>...</td>\n",
       "      <td>974.296938</td>\n",
       "      <td>1567.268267</td>\n",
       "      <td>-29.897435</td>\n",
       "      <td>1597.165702</td>\n",
       "      <td>940.640430</td>\n",
       "      <td>-66.316375</td>\n",
       "      <td>1006.956804</td>\n",
       "      <td>1567.268267</td>\n",
       "      <td>-53.074301</td>\n",
       "      <td>1620.342568</td>\n",
       "    </tr>\n",
       "    <tr>\n",
       "      <th>447</th>\n",
       "      <td>27680.565655</td>\n",
       "      <td>26983.440023</td>\n",
       "      <td>26116.765062</td>\n",
       "      <td>61.809373</td>\n",
       "      <td>61.834989</td>\n",
       "      <td>61.380240</td>\n",
       "      <td>857.619410</td>\n",
       "      <td>-138.316226</td>\n",
       "      <td>995.935636</td>\n",
       "      <td>1438.120499</td>\n",
       "      <td>...</td>\n",
       "      <td>820.793955</td>\n",
       "      <td>1324.543553</td>\n",
       "      <td>-90.874050</td>\n",
       "      <td>1415.417602</td>\n",
       "      <td>744.042463</td>\n",
       "      <td>-131.457170</td>\n",
       "      <td>875.499634</td>\n",
       "      <td>1324.543553</td>\n",
       "      <td>-147.899508</td>\n",
       "      <td>1472.443060</td>\n",
       "    </tr>\n",
       "    <tr>\n",
       "      <th>448</th>\n",
       "      <td>27607.197827</td>\n",
       "      <td>27093.518018</td>\n",
       "      <td>26293.898179</td>\n",
       "      <td>62.209883</td>\n",
       "      <td>62.132530</td>\n",
       "      <td>61.607580</td>\n",
       "      <td>654.999991</td>\n",
       "      <td>-113.645215</td>\n",
       "      <td>768.645206</td>\n",
       "      <td>1192.568026</td>\n",
       "      <td>...</td>\n",
       "      <td>676.089964</td>\n",
       "      <td>1141.306004</td>\n",
       "      <td>-91.370533</td>\n",
       "      <td>1232.676537</td>\n",
       "      <td>603.737969</td>\n",
       "      <td>-135.880833</td>\n",
       "      <td>739.618801</td>\n",
       "      <td>1141.306004</td>\n",
       "      <td>-165.568528</td>\n",
       "      <td>1306.874532</td>\n",
       "    </tr>\n",
       "  </tbody>\n",
       "</table>\n",
       "<p>430 rows × 30 columns</p>\n",
       "</div>"
      ],
      "text/plain": [
       "          ema_3_0       ema_9_1      ema_15_2      rsi_0      rsi_1  \\\n",
       "19   41377.339439  42216.374605  42836.967596  24.386534  24.809960   \n",
       "20   38911.324719  41062.161684  42038.010397  13.173430  14.927279   \n",
       "21   36991.372360  39864.013348  41167.186597  11.300698  13.103922   \n",
       "22   36617.961180  39140.120678  40551.857022  21.842162  21.878759   \n",
       "23   36639.155590  38644.166542  40065.418645  25.336653  24.778145   \n",
       "..            ...           ...           ...        ...        ...   \n",
       "444  27784.855237  26322.570826  25349.437731  71.876195  69.103865   \n",
       "445  27517.912618  26508.250660  25587.129265  64.268275  63.487918   \n",
       "446  27906.661309  26865.682528  25925.664357  68.759165  67.016304   \n",
       "447  27680.565655  26983.440023  26116.765062  61.809373  61.834989   \n",
       "448  27607.197827  27093.518018  26293.898179  62.209883  62.132530   \n",
       "\n",
       "         rsi_2  MACD_3_10_0  MACD_diff_3_10_0  MACD_sign_3_10_0  MACD_3_14_1  \\\n",
       "19   24.707944  -942.731929       -134.225787       -808.506142 -1357.287237   \n",
       "20   16.039644 -2340.608218       -510.700692      -1829.907526 -2984.726400   \n",
       "21   14.323831 -3136.830953       -435.641142      -2701.189811 -3994.727943   \n",
       "22   21.838955 -2804.123349        -34.311179      -2769.812169 -3735.932416   \n",
       "23   24.315785 -2280.795388        163.005594      -2443.800982 -3222.265527   \n",
       "..         ...          ...               ...               ...          ...   \n",
       "444  66.651314  1666.595440        -54.784267       1721.379708  2310.252078   \n",
       "445  62.463637  1193.705512       -175.891398       1369.596911  1806.460548   \n",
       "446  65.271036  1224.053677        -48.514411       1272.568088  1850.681515   \n",
       "447  61.380240   857.619410       -138.316226        995.935636  1438.120499   \n",
       "448  61.607580   654.999991       -113.645215        768.645206  1192.568026   \n",
       "\n",
       "     ...  MACD_sign_5_10_4  MACD_5_14_5  MACD_diff_5_14_5  MACD_sign_5_14_5  \\\n",
       "19   ...       -497.740149  -980.174452        -84.741750       -895.432702   \n",
       "20   ...      -1010.709908 -1911.312970       -338.626756      -1572.686214   \n",
       "21   ...      -1524.395223 -2639.134870       -355.482885      -2283.651985   \n",
       "22   ...      -1692.081234 -2707.733308       -141.360441      -2566.372867   \n",
       "23   ...      -1632.289824 -2543.864258          7.502870      -2551.367127   \n",
       "..   ...               ...          ...               ...               ...   \n",
       "444  ...       1198.909892  1830.662481         11.210811       1819.451670   \n",
       "445  ...       1041.609955  1575.715022        -81.245549       1656.960571   \n",
       "446  ...        974.296938  1567.268267        -29.897435       1597.165702   \n",
       "447  ...        820.793955  1324.543553        -90.874050       1415.417602   \n",
       "448  ...        676.089964  1141.306004        -91.370533       1232.676537   \n",
       "\n",
       "     MACD_5_10_6  MACD_diff_5_10_6  MACD_sign_5_10_6  MACD_5_14_7  \\\n",
       "19   -565.619144       -107.796576       -457.822569  -980.174452   \n",
       "20  -1267.194788       -404.686110       -862.508679 -1911.312970   \n",
       "21  -1781.237880       -459.364601      -1321.873279 -2639.134870   \n",
       "22  -1775.924240       -227.025480      -1548.898760 -2707.733308   \n",
       "23  -1602.394119        -26.747680      -1575.646439 -2543.864258   \n",
       "..           ...               ...               ...          ...   \n",
       "444  1187.005843          3.419472       1183.586371  1830.662481   \n",
       "445   962.959987       -110.313192       1073.273179  1575.715022   \n",
       "446   940.640430        -66.316375       1006.956804  1567.268267   \n",
       "447   744.042463       -131.457170        875.499634  1324.543553   \n",
       "448   603.737969       -135.880833        739.618801  1141.306004   \n",
       "\n",
       "     MACD_diff_5_14_7  MACD_sign_5_14_7  \n",
       "19        -133.326762       -846.847690  \n",
       "20        -532.232640      -1379.080330  \n",
       "21        -630.027270      -2009.107600  \n",
       "22        -349.312854      -2358.420454  \n",
       "23         -92.721902      -2451.142356  \n",
       "..                ...               ...  \n",
       "444         59.543765       1771.118715  \n",
       "445        -97.701847       1673.416869  \n",
       "446        -53.074301       1620.342568  \n",
       "447       -147.899508       1472.443060  \n",
       "448       -165.568528       1306.874532  \n",
       "\n",
       "[430 rows x 30 columns]"
      ]
     },
     "execution_count": 11,
     "metadata": {},
     "output_type": "execute_result"
    }
   ],
   "source": [
    "ema_list = [3, 9, 15]\n",
    "rsi_list = [10, 14, 20]\n",
    "\n",
    "macd_dict = {\n",
    "    'slow' : [10, 14],\n",
    "    'fast' : [3, 5],\n",
    "    'signal' : [2, 3]\n",
    "}\n",
    "\n",
    "sar_dict = {\n",
    "    'step' : [0.2],\n",
    "    'max_step' : [0.2]\n",
    "}\n",
    "\n",
    "\n",
    "m_i = MakeIndicator(data)\n",
    "EMA = m_i.set_stransformer(ema, ema_list)\n",
    "RSI = m_i.set_stransformer(rsi, rsi_list)\n",
    "MACD = m_i.set_mtransformer(macd, macd_dict)\n",
    "#SAR = m_i.set_mtransformer(sar, sar_dict)\n",
    "\n",
    "pipe = m_i.pipeline()\n",
    "\n",
    "pipe.fit_transform(data)"
   ]
  },
  {
   "cell_type": "code",
   "execution_count": null,
   "metadata": {},
   "outputs": [],
   "source": [
    "model_1 = Pipeline(\n",
    "    [\n",
    "        (\"features\", pipe),\n",
    "        (\"random\", RandomForestClassifier())\n",
    "    ]\n",
    ")\n",
    "model_1"
   ]
  },
  {
   "cell_type": "code",
   "execution_count": null,
   "metadata": {},
   "outputs": [],
   "source": [
    "model_1.fit(features, target[19:])"
   ]
  },
  {
   "cell_type": "code",
   "execution_count": null,
   "metadata": {},
   "outputs": [],
   "source": []
  },
  {
   "cell_type": "code",
   "execution_count": null,
   "metadata": {},
   "outputs": [],
   "source": [
    "model_1[-1].feature_names_in_"
   ]
  },
  {
   "cell_type": "code",
   "execution_count": null,
   "metadata": {},
   "outputs": [],
   "source": [
    "def feature_importances(model):\n",
    "    Importance = pd.DataFrame({'Importance' : model.feature_importances_*100},\n",
    "                          index = model.feature_names_in_)\n",
    "    Importance.sort_values('Importance', axis = 0, ascending = True).plot(kind = 'barh', color = 'r')\n",
    "\n",
    "\n",
    "importances = model_1.named_steps['random']"
   ]
  },
  {
   "cell_type": "code",
   "execution_count": null,
   "metadata": {},
   "outputs": [],
   "source": [
    "#model_1[:-1].feature_names_out"
   ]
  },
  {
   "cell_type": "code",
   "execution_count": null,
   "metadata": {},
   "outputs": [],
   "source": [
    "\"\"\"\n",
    "Indicators = FeatureUnion(\n",
    "    [\n",
    "        (\"ema\", EMA),\n",
    "        (\"rsi\", RSI)\n",
    "    ]\n",
    ")\n",
    "\n",
    "Indicators.fit_transform(data)\n",
    "\"\"\""
   ]
  }
 ],
 "metadata": {
  "kernelspec": {
   "display_name": "Python 3",
   "language": "python",
   "name": "python3"
  },
  "language_info": {
   "codemirror_mode": {
    "name": "ipython",
    "version": 3
   },
   "file_extension": ".py",
   "mimetype": "text/x-python",
   "name": "python",
   "nbconvert_exporter": "python",
   "pygments_lexer": "ipython3",
   "version": "3.9.6"
  },
  "orig_nbformat": 4,
  "vscode": {
   "interpreter": {
    "hash": "dacff523af297f253b96c08a95a52f4913b3d66f2abacce976f8fdea6b18462e"
   }
  }
 },
 "nbformat": 4,
 "nbformat_minor": 2
}
