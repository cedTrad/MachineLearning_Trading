{
 "cells": [
  {
   "cell_type": "code",
   "execution_count": 1,
   "metadata": {},
   "outputs": [],
   "source": [
    "import pandas as pd\n",
    "import numpy as np\n",
    "\n",
    "from sklearn.linear_model import LinearRegression\n",
    "from sklearn.ensemble import RandomForestClassifier, RandomForestRegressor\n",
    "\n",
    "from sklearn.preprocessing import FunctionTransformer\n",
    "from sklearn.pipeline import make_union, make_pipeline, Pipeline\n",
    "\n",
    "from sklearn.feature_selection import SelectFromModel\n",
    "from sklearn.feature_selection import RFE, RFECV\n",
    "\n",
    "from fenginering.indicator import *\n",
    "from fenginering.transformer import *\n",
    "from fenginering.preprocessing import Crossover\n",
    "from data.get_data import *\n",
    "\n",
    "from fenginering.function import *\n",
    "\n",
    "import warnings\n",
    "warnings.filterwarnings('ignore')\n",
    "\n",
    "%load_ext autoreload\n",
    "%autoreload 2"
   ]
  },
  {
   "cell_type": "code",
   "execution_count": 2,
   "metadata": {},
   "outputs": [
    {
     "data": {
      "text/plain": [
       "(449, 5)"
      ]
     },
     "execution_count": 2,
     "metadata": {},
     "output_type": "execute_result"
    }
   ],
   "source": [
    "start = \"2022\"\n",
    "end = \"2023\"\n",
    "data = get_data('BTC', '1d').loc[start : end]\n",
    "data.drop(columns = ['symbol'], inplace = True)\n",
    "data.columns = data.columns.astype(str)\n",
    "data.shape"
   ]
  },
  {
   "cell_type": "code",
   "execution_count": null,
   "metadata": {},
   "outputs": [],
   "source": [
    "N = data.shape[0]\n",
    "n = int(0.7*N)\n",
    "Train = data[:n]\n",
    "Test = data[n:]\n",
    "\n",
    "target = get_classification_target(Train)\n",
    "features = Train\n",
    "\n",
    "target_t = get_classification_target(Test)\n",
    "features_t = Test\n",
    "\n",
    "target.value_counts().plot(kind = 'barh', color = 'red')"
   ]
  },
  {
   "attachments": {},
   "cell_type": "markdown",
   "metadata": {},
   "source": [
    "# Combinaison de MA"
   ]
  },
  {
   "cell_type": "code",
   "execution_count": null,
   "metadata": {},
   "outputs": [],
   "source": [
    "sma_list = [3, 7, 10, 14, 21, 28, 30, 40, 45, 60, 75, 80, 96]\n",
    "sma_list_h = range(3, 2, 200)"
   ]
  },
  {
   "cell_type": "code",
   "execution_count": null,
   "metadata": {},
   "outputs": [],
   "source": [
    "cross = Crossover(Train)\n",
    "features = cross.ma(sma, sma_list)\n",
    "\n",
    "cross = Crossover(Test)\n",
    "features_test = cross.ma(sma, sma_list)"
   ]
  },
  {
   "attachments": {},
   "cell_type": "markdown",
   "metadata": {},
   "source": [
    "# Test Train"
   ]
  },
  {
   "cell_type": "code",
   "execution_count": null,
   "metadata": {},
   "outputs": [],
   "source": [
    "# Train\n",
    "train = features.join(target)\n",
    "features_train = train.drop(columns = 'target')\n",
    "target_train = train['target']\n",
    "\n",
    "# Test\n",
    "test = features_test.join(target_test)\n",
    "features_test = test.drop(columns = 'target')\n",
    "target_test = test['target']"
   ]
  },
  {
   "cell_type": "code",
   "execution_count": null,
   "metadata": {},
   "outputs": [],
   "source": [
    "from sklearn.tree import DecisionTreeClassifier\n",
    "\n",
    "#model = DecisionTreeClassifier()\n",
    "model = RandomForestClassifier()\n",
    "model.fit(features_train, target_train)"
   ]
  },
  {
   "cell_type": "code",
   "execution_count": null,
   "metadata": {},
   "outputs": [],
   "source": [
    "y_pred = model.predict(features_test)\n",
    "y_pred_proba = model.predict_proba(features_test)\n",
    "\n",
    "from evaluation.classification import *\n",
    "\n",
    "evaluation = Evaluation(y_true = target_test, y_pred = y_pred, proba_pred = y_pred_proba[:,1])\n",
    "evaluation.metrics()\n",
    "evaluation.show()"
   ]
  },
  {
   "cell_type": "code",
   "execution_count": null,
   "metadata": {},
   "outputs": [],
   "source": [
    "def feature_importances(model):\n",
    "    Importance = pd.DataFrame({'Importance' : model.feature_importances_*100},\n",
    "                          index = model.feature_names_in_)\n",
    "    Importance.sort_values('Importance', axis = 0, ascending = True).plot(kind = 'barh',\n",
    "                                                                          color = 'r',\n",
    "                                                                          figsize = (10, 20))\n",
    "\n",
    "feature_importances(model)"
   ]
  },
  {
   "cell_type": "code",
   "execution_count": null,
   "metadata": {},
   "outputs": [],
   "source": [
    "from sklearn.model_selection import GridSearchCV\n",
    "\n",
    "param_grid = {'max_depth' : np.arange(1, 20),\n",
    "              'criterion' : ['gini', 'entropy', 'log_loss'],\n",
    "              'min_samples_leaf' : [15, 20, 30, 40, 55, 60, 80, 100, 200],\n",
    "              }\n",
    "score = 'accuracy'\n",
    "\n",
    "\n",
    "grid = GridSearchCV(model, param_grid, scoring=score ,cv = 5)\n",
    "grid.fit(features_train, target_train)"
   ]
  },
  {
   "cell_type": "code",
   "execution_count": null,
   "metadata": {},
   "outputs": [],
   "source": [
    "model_g = grid.best_estimator_\n",
    "model_g.fit(features_train, target_train)"
   ]
  },
  {
   "cell_type": "code",
   "execution_count": null,
   "metadata": {},
   "outputs": [],
   "source": [
    "y_pred = model_g.predict(features_test)\n",
    "y_pred_proba = model_g.predict_proba(features_test)\n",
    "\n",
    "from evaluation.classification import *\n",
    "\n",
    "evaluation = Evaluation(y_true = target_test, y_pred = y_pred, proba_pred = y_pred_proba[:,1])\n",
    "evaluation.metrics()\n",
    "evaluation.show()"
   ]
  },
  {
   "cell_type": "code",
   "execution_count": null,
   "metadata": {},
   "outputs": [],
   "source": [
    "lev = 100\n",
    "\n",
    "up = 0.7\n",
    "down = 0.3\n",
    "\n",
    "backtest = pd.DataFrame()\n",
    "\n",
    "backtest['close'] = Test.close\n",
    "backtest['returns'] = Test.close.pct_change()\n",
    "backtest['target'] = target_test\n",
    "backtest['pred'] = y_pred\n",
    "backtest['pred_proba'] = y_pred_proba[:,0]\n",
    "\n",
    "backtest['pred2'] = np.where(backtest['pred_proba'] > 0.7, 1,\n",
    "         np.where(backtest['pred_proba'] < 0.3, -1, 0)\n",
    "         )\n",
    "\n",
    "backtest['cum_ret'] = (1 + backtest['returns']).cumprod()\n",
    "\n",
    "backtest['strategy'] = backtest['returns']*backtest['pred']\n",
    "backtest['strategy_cum_ret'] = (1 + backtest['strategy']).cumprod()\n",
    "\n",
    "backtest['leverage'] = np.where(backtest['pred_proba'] > 0.8, lev,\n",
    "                                np.where(backtest['pred_proba'] < 0.2, lev, 1)\n",
    "                                )\n",
    "backtest['strategy2'] = backtest['returns'] * backtest['pred2'] * backtest['leverage']\n",
    "\n",
    "\n",
    "backtest['strategy_cum_ret2'] = (1 + backtest['strategy2']).cumprod()\n",
    "\n",
    "#backtest\n",
    "\n",
    "#backtest[['cum_ret', 'strategy_cum_ret', 'strategy_cum_ret2']].plot(figsize = (15, 10))\n",
    "px.line(backtest[['cum_ret', 'strategy_cum_ret', 'strategy_cum_ret2']])"
   ]
  }
 ],
 "metadata": {
  "kernelspec": {
   "display_name": "Python 3",
   "language": "python",
   "name": "python3"
  },
  "language_info": {
   "codemirror_mode": {
    "name": "ipython",
    "version": 3
   },
   "file_extension": ".py",
   "mimetype": "text/x-python",
   "name": "python",
   "nbconvert_exporter": "python",
   "pygments_lexer": "ipython3",
   "version": "3.9.6"
  },
  "orig_nbformat": 4
 },
 "nbformat": 4,
 "nbformat_minor": 2
}
